{
 "cells": [
  {
   "cell_type": "code",
   "execution_count": 1,
   "metadata": {},
   "outputs": [],
   "source": [
    "import pandas as pd\n",
    "import numpy as np\n",
    "import string\n",
    "import matplotlib.pyplot as plt\n",
    "from collections import Counter\n",
    "%matplotlib inline"
   ]
  },
  {
   "cell_type": "code",
   "execution_count": 2,
   "metadata": {},
   "outputs": [],
   "source": [
    "imdb_test = pd.read_csv('Datasets/IMDB-test.txt', header=None, sep=\"\\t\")\n",
    "imdb_train = pd.read_csv('Datasets/IMDB-train.txt', header=None, sep=\"\\t\")\n",
    "imdb_valid = pd.read_csv('Datasets/IMDB-valid.txt', header=None, sep=\"\\t\")\n",
    "\n",
    "yelp_test = pd.read_csv('Datasets/yelp-test.txt', header=None, sep=\"\\t\")\n",
    "yelp_train = pd.read_csv('Datasets/yelp-train.txt', header=None, sep=\"\\t\")\n",
    "yelp_valid = pd.read_csv('Datasets/yelp-valid.txt', header=None, sep=\"\\t\")"
   ]
  },
  {
   "cell_type": "code",
   "execution_count": 3,
   "metadata": {},
   "outputs": [],
   "source": [
    "#Cleaning data and getting top 10000\n",
    "def getTopWords(reviews):\n",
    "    allWords = []\n",
    "    topWords = []\n",
    "    \n",
    "    for review in reviews[0]:\n",
    "        allWords.extend(review.lower().translate(None, string.punctuation).split(' '))\n",
    "    \n",
    "    c = Counter()\n",
    "    for word in allWords:\n",
    "        if (word != ''):\n",
    "            c[word] += 1\n",
    "        \n",
    "    topWords = c.most_common(10000)\n",
    "    return {tupl[0]: index for index, tupl in enumerate(topWords)}\n",
    "    "
   ]
  },
  {
   "cell_type": "code",
   "execution_count": 4,
   "metadata": {},
   "outputs": [],
   "source": [
    "yelpDict = getTopWords(yelp_train)\n",
    "imdbDictIndex = getTopWords(imdb_train)"
   ]
  },
  {
   "cell_type": "code",
   "execution_count": 5,
   "metadata": {},
   "outputs": [],
   "source": [
    "def binBagWords(dictIndex, reviews):\n",
    "    m = []\n",
    "    for review in reviews[0]:\n",
    "        vect = np.zeros(len(dictIndex))\n",
    "        for word in review:\n",
    "            if word in dictIndex:\n",
    "                vect[dictIndex[word]] = 1\n",
    "        m.append(np.array(vect))\n",
    "    return np.array(m)"
   ]
  },
  {
   "cell_type": "code",
   "execution_count": null,
   "metadata": {},
   "outputs": [],
   "source": [
    "def freqBagWords(dictIndex, reviews):\n",
    "    m = []\n",
    "    for review in reviews[0]:\n",
    "        vect = np.zeros(len(dictIndex))\n",
    "        for word in review:\n",
    "            if word in dictIndex:\n",
    "                vect[dictIndex[word]] += 1\n",
    "        s = sum(vect)\n",
    "        if s > 0:\n",
    "            vect = np.divide(vect, s)\n",
    "        m.append(vect)\n",
    "    return np.array(m)"
   ]
  },
  {
   "cell_type": "code",
   "execution_count": 7,
   "metadata": {},
   "outputs": [],
   "source": [
    "a = binBagWords(yelpDict, yelp_train)"
   ]
  },
  {
   "cell_type": "code",
   "execution_count": 9,
   "metadata": {},
   "outputs": [
    {
     "ename": "MemoryError",
     "evalue": "",
     "output_type": "error",
     "traceback": [
      "\u001b[1;31m---------------------------------------------------------------------------\u001b[0m",
      "\u001b[1;31mMemoryError\u001b[0m                               Traceback (most recent call last)",
      "\u001b[1;32m<ipython-input-9-a165934a46d3>\u001b[0m in \u001b[0;36m<module>\u001b[1;34m()\u001b[0m\n\u001b[1;32m----> 1\u001b[1;33m \u001b[0mb\u001b[0m \u001b[1;33m=\u001b[0m \u001b[0mfreqBagWords\u001b[0m\u001b[1;33m(\u001b[0m\u001b[0myelpDict\u001b[0m\u001b[1;33m,\u001b[0m \u001b[0myelp_train\u001b[0m\u001b[1;33m)\u001b[0m\u001b[1;33m\u001b[0m\u001b[0m\n\u001b[0m",
      "\u001b[1;32m<ipython-input-6-1b356668803a>\u001b[0m in \u001b[0;36mfreqBagWords\u001b[1;34m(dictIndex, reviews)\u001b[0m\n\u001b[0;32m     10\u001b[0m             \u001b[0mnp\u001b[0m\u001b[1;33m.\u001b[0m\u001b[0mdivide\u001b[0m\u001b[1;33m(\u001b[0m\u001b[0mvect\u001b[0m\u001b[1;33m,\u001b[0m \u001b[0ms\u001b[0m\u001b[1;33m)\u001b[0m\u001b[1;33m\u001b[0m\u001b[0m\n\u001b[0;32m     11\u001b[0m         \u001b[0mm\u001b[0m\u001b[1;33m.\u001b[0m\u001b[0mappend\u001b[0m\u001b[1;33m(\u001b[0m\u001b[0mvect\u001b[0m\u001b[1;33m)\u001b[0m\u001b[1;33m\u001b[0m\u001b[0m\n\u001b[1;32m---> 12\u001b[1;33m     \u001b[1;32mreturn\u001b[0m \u001b[0mnp\u001b[0m\u001b[1;33m.\u001b[0m\u001b[0marray\u001b[0m\u001b[1;33m(\u001b[0m\u001b[0mm\u001b[0m\u001b[1;33m)\u001b[0m\u001b[1;33m\u001b[0m\u001b[0m\n\u001b[0m",
      "\u001b[1;31mMemoryError\u001b[0m: "
     ]
    }
   ],
   "source": [
    "b = freqBagWords(yelpDict, yelp_train)"
   ]
  },
  {
   "cell_type": "code",
   "execution_count": null,
   "metadata": {},
   "outputs": [],
   "source": [
    "c = np.divide(b[0], sum(b[0]))"
   ]
  },
  {
   "cell_type": "code",
   "execution_count": null,
   "metadata": {},
   "outputs": [],
   "source": [
    "b[0]"
   ]
  },
  {
   "cell_type": "code",
   "execution_count": null,
   "metadata": {},
   "outputs": [],
   "source": []
  }
 ],
 "metadata": {
  "kernelspec": {
   "display_name": "Python 2",
   "language": "python",
   "name": "python2"
  },
  "language_info": {
   "codemirror_mode": {
    "name": "ipython",
    "version": 2
   },
   "file_extension": ".py",
   "mimetype": "text/x-python",
   "name": "python",
   "nbconvert_exporter": "python",
   "pygments_lexer": "ipython2",
   "version": "2.7.14"
  }
 },
 "nbformat": 4,
 "nbformat_minor": 2
}

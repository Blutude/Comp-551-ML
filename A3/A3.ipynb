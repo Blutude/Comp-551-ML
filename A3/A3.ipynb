{
 "cells": [
  {
   "cell_type": "code",
   "execution_count": 79,
   "metadata": {},
   "outputs": [],
   "source": [
    "import pandas as pd\n",
    "import numpy as np\n",
    "import string\n",
    "import matplotlib.pyplot as plt\n",
    "from collections import Counter\n",
    "import sklearn.metrics\n",
    "import sklearn.naive_bayes\n",
    "import sklearn.tree\n",
    "import sklearn.svm\n",
    "%matplotlib inline"
   ]
  },
  {
   "cell_type": "code",
   "execution_count": 2,
   "metadata": {
    "collapsed": true
   },
   "outputs": [],
   "source": [
    "yelp_test = pd.read_csv('Datasets/yelp-test-ORIGINAL.txt', header=None, sep=\"\\t\")\n",
    "yelp_train = pd.read_csv('Datasets/yelp-train-ORIGINAL.txt', header=None, sep=\"\\t\")\n",
    "yelp_valid = pd.read_csv('Datasets/yelp-valid-ORIGINAL.txt', header=None, sep=\"\\t\")"
   ]
  },
  {
   "cell_type": "code",
   "execution_count": 3,
   "metadata": {
    "collapsed": true
   },
   "outputs": [],
   "source": [
    "imdb_test = pd.read_csv('Datasets/IMDB-test-ORIGINAL.txt', header=None, sep=\"\\t\")\n",
    "imdb_train = pd.read_csv('Datasets/IMDB-train-ORIGINAL.txt', header=None, sep=\"\\t\")\n",
    "imdb_valid = pd.read_csv('Datasets/IMDB-valid-ORIGINAL.txt', header=None, sep=\"\\t\")"
   ]
  },
  {
   "cell_type": "code",
   "execution_count": 6,
   "metadata": {
    "collapsed": true
   },
   "outputs": [],
   "source": [
    "#Cleaning data and getting top 10000\n",
    "def getTopWords(reviews):\n",
    "    allWords = []\n",
    "    topWords = []\n",
    "    \n",
    "    for review in reviews[0]:\n",
    "        allWords.extend(review.lower().translate(str.maketrans(\"\",\"\", string.punctuation)).split(' '))\n",
    "    \n",
    "    c = Counter()\n",
    "    for word in allWords:\n",
    "        if (word != ''):\n",
    "            c[word] += 1\n",
    "        \n",
    "    topWords = c.most_common(10000)\n",
    "    return {tupl[0]: index for index, tupl in enumerate(topWords)}, [tupl[0] + '\\t' + str(index) + '\\t' + str(tupl[1])  for index, tupl in enumerate(topWords)]\n",
    "    "
   ]
  },
  {
   "cell_type": "code",
   "execution_count": 11,
   "metadata": {
    "collapsed": true
   },
   "outputs": [],
   "source": [
    "yelpDict, yelpOutput = getTopWords(yelp_train)"
   ]
  },
  {
   "cell_type": "code",
   "execution_count": 12,
   "metadata": {
    "collapsed": true
   },
   "outputs": [],
   "source": [
    "imdbDict, imdbOutput = getTopWords(imdb_train)"
   ]
  },
  {
   "cell_type": "code",
   "execution_count": 40,
   "metadata": {
    "collapsed": true
   },
   "outputs": [],
   "source": [
    "# Saving vocab data to .txt file\n",
    "\n",
    "f = open(\"Datasets/IMDB-vocab.txt\", 'w',encoding='utf-8')\n",
    "c = 0\n",
    "for line in imdbOutput:\n",
    "    if c == 0:  \n",
    "        f.write(line)\n",
    "    else:\n",
    "        f.write('\\n')\n",
    "        f.write(line)\n",
    "    c += 1\n",
    "f.close()\n",
    "\n",
    "f = open(\"Datasets/yelp-vocab.txt\", 'w',encoding='utf-8')\n",
    "c = 0\n",
    "for line in yelpOutput:\n",
    "    if c == 0:  \n",
    "        f.write(line)\n",
    "    else:\n",
    "        f.write('\\n')\n",
    "        f.write(line)\n",
    "    c += 1\n",
    "f.close()"
   ]
  },
  {
   "cell_type": "code",
   "execution_count": 48,
   "metadata": {},
   "outputs": [],
   "source": [
    "def saveReviewsIDs(dic, reviews, out):\n",
    "    f = open(out, 'w',encoding='utf-8')\n",
    "    c = 0\n",
    "    for review, categ in zip(reviews[0], reviews[1]):\n",
    "        if c != 0:\n",
    "            f.write('\\n')\n",
    "        r = review.lower().translate(str.maketrans(\"\",\"\", string.punctuation)).split(' ')\n",
    "        for index, word in enumerate(r):\n",
    "            if word in dic:\n",
    "                if index != 0:\n",
    "                    f.write(' ')\n",
    "                f.write(str(dic[word]))\n",
    "        f.write('\\t')\n",
    "        f.write(str(categ))\n",
    "        c += 1\n",
    "\n",
    "    f.close()"
   ]
  },
  {
   "cell_type": "code",
   "execution_count": 49,
   "metadata": {},
   "outputs": [],
   "source": [
    "saveReviewsIDs(imdbDict, imdb_test, \"Datasets/IMDB-test.txt\")\n",
    "saveReviewsIDs(imdbDict, imdb_train, \"Datasets/IMDB-train.txt\")\n",
    "saveReviewsIDs(imdbDict, imdb_valid, \"Datasets/IMDB-valid.txt\")\n",
    "\n",
    "saveReviewsIDs(yelpDict, yelp_test, \"Datasets/yelp-test.txt\")\n",
    "saveReviewsIDs(yelpDict, yelp_train, \"Datasets/yelp-train.txt\")\n",
    "saveReviewsIDs(yelpDict, yelp_valid, \"Datasets/yelp-valid.txt\")"
   ]
  },
  {
   "cell_type": "code",
   "execution_count": 54,
   "metadata": {
    "collapsed": true
   },
   "outputs": [],
   "source": [
    "def binBagWords(dictIndex, reviews):\n",
    "    m = []\n",
    "    for review in reviews[0]:\n",
    "        vect = [0] * len(dictIndex)\n",
    "        for word in review:\n",
    "            if word in dictIndex:\n",
    "                vect[dictIndex[word]] = 1\n",
    "        m.append(vect)\n",
    "    return np.array(m)"
   ]
  },
  {
   "cell_type": "code",
   "execution_count": 55,
   "metadata": {
    "collapsed": true
   },
   "outputs": [],
   "source": [
    "def freqBagWords(dictIndex, reviews):\n",
    "    m = []\n",
    "    for review in reviews[0]:\n",
    "        vect = [0] * len(dictIndex)\n",
    "        for word in review:\n",
    "            if word in dictIndex:\n",
    "                vect[dictIndex[word]] += 1\n",
    "        s = sum(vect)\n",
    "        if s > 0:\n",
    "            vect = np.divide(vect, s)\n",
    "        m.append(vect)\n",
    "    return np.array(m)"
   ]
  },
  {
   "cell_type": "code",
   "execution_count": 61,
   "metadata": {},
   "outputs": [],
   "source": [
    "yelpTrainBinBag = binBagWords(yelpDict, yelp_train)\n",
    "yelpTrainFreqBag = freqBagWords(yelpDict, yelp_train)\n",
    "\n",
    "yelpTestBinBag = binBagWords(yelpDict, yelp_test)\n",
    "yelpTestFreqBag = freqBagWords(yelpDict, yelp_test)\n",
    "\n",
    "yelpValidBinBag = binBagWords(yelpDict, yelp_valid)\n",
    "yelpValidFreqBag = freqBagWords(yelpDict, yelp_valid)"
   ]
  },
  {
   "cell_type": "code",
   "execution_count": 62,
   "metadata": {
    "collapsed": true
   },
   "outputs": [],
   "source": [
    "imdbTrainBinBag = binBagWords(imdbDict, imdb_train)\n",
    "imdbTrainFreqBag = freqBagWords(imdbDict, imdb_train)\n",
    "\n",
    "imdbTestBinBag = binBagWords(imdbDict, imdb_test)\n",
    "imdbTestFreqBag = freqBagWords(imdbDict, imdb_test)\n",
    "\n",
    "imdbValidBinBag = binBagWords(imdbDict, imdb_valid)\n",
    "imdbValidFreqBag = freqBagWords(imdbDict, imdb_valid)"
   ]
  },
  {
   "cell_type": "markdown",
   "metadata": {},
   "source": [
    "# YELP"
   ]
  },
  {
   "cell_type": "code",
   "execution_count": 67,
   "metadata": {},
   "outputs": [
    {
     "data": {
      "text/plain": [
       "0.184"
      ]
     },
     "execution_count": 67,
     "metadata": {},
     "output_type": "execute_result"
    }
   ],
   "source": [
    "# Random classifier\n",
    "rand = np.random.choice([1,2,3,4,5], len(yelp_test[1]))\n",
    "sklearn.metrics.f1_score(yelp_test[1], rand, average='micro')"
   ]
  },
  {
   "cell_type": "code",
   "execution_count": 70,
   "metadata": {},
   "outputs": [
    {
     "data": {
      "text/plain": [
       "0.35099999999999998"
      ]
     },
     "execution_count": 70,
     "metadata": {},
     "output_type": "execute_result"
    }
   ],
   "source": [
    "# Majority-class classifier\n",
    "majority = np.argmax(np.bincount(yelp_train[1]))\n",
    "majorityArr = np.array([majority]*len(yelp_test[1]))\n",
    "sklearn.metrics.f1_score(yelp_test[1], majorityArr, average='micro')"
   ]
  },
  {
   "cell_type": "code",
   "execution_count": 120,
   "metadata": {},
   "outputs": [
    {
     "data": {
      "text/plain": [
       "0.36449999999999999"
      ]
     },
     "execution_count": 120,
     "metadata": {},
     "output_type": "execute_result"
    }
   ],
   "source": [
    "# Naive Bayes classifier - binBag\n",
    "classifier = sklearn.naive_bayes.BernoulliNB()\n",
    "classifier.fit(yelpTrainBinBag, yelp_train[1])\n",
    "result = classifier.predict(yelpTestBinBag)\n",
    "sklearn.metrics.f1_score(yelp_test[1], result, average='micro')"
   ]
  },
  {
   "cell_type": "code",
   "execution_count": 149,
   "metadata": {},
   "outputs": [],
   "source": [
    "# Naive Bayes classifier - binBag - hyper-parameter tuning\n",
    "alphas = np.linspace(2, 4, 100)\n",
    "f1s = []\n",
    "for a in alphas:\n",
    "    classifier = sklearn.naive_bayes.BernoulliNB(alpha=a)\n",
    "    classifier.fit(yelpTrainBinBag, yelp_train[1])\n",
    "    result = classifier.predict(yelpValidBinBag)\n",
    "    f1s.append(sklearn.metrics.f1_score(yelp_valid[1], result, average='micro'))"
   ]
  },
  {
   "cell_type": "code",
   "execution_count": 150,
   "metadata": {},
   "outputs": [
    {
     "data": {
      "text/plain": [
       "Text(0.5,1,'fMeasure vs alpha')"
      ]
     },
     "execution_count": 150,
     "metadata": {},
     "output_type": "execute_result"
    },
    {
     "data": {
      "image/png": "[encoded data removed]",
      "text/plain": [
       "<matplotlib.figure.Figure at 0x22401286208>"
      ]
     },
     "metadata": {},
     "output_type": "display_data"
    }
   ],
   "source": [
    "plt.plot(alphas, f1s, c='b')\n",
    "plt.xlabel(\"alpha\")\n",
    "plt.ylabel(\"fMeasure\")\n",
    "plt.title(\"fMeasure vs alpha\")"
   ]
  },
  {
   "cell_type": "code",
   "execution_count": 151,
   "metadata": {},
   "outputs": [
    {
     "name": "stdout",
     "output_type": "stream",
     "text": [
      "2.70707070707\n"
     ]
    },
    {
     "data": {
      "text/plain": [
       "0.36250000000000004"
      ]
     },
     "execution_count": 151,
     "metadata": {},
     "output_type": "execute_result"
    }
   ],
   "source": [
    "bestAlpha = alphas[np.argmax(f1s)]\n",
    "print(bestAlpha)\n",
    "\n",
    "classifier = sklearn.naive_bayes.BernoulliNB(alpha=bestAlpha)\n",
    "classifier.fit(yelpTrainBinBag, yelp_train[1])\n",
    "result = classifier.predict(yelpTestBinBag)\n",
    "sklearn.metrics.f1_score(yelp_test[1], result, average='micro')"
   ]
  },
  {
   "cell_type": "code",
   "execution_count": null,
   "metadata": {
    "collapsed": true
   },
   "outputs": [],
   "source": [
    "# Naive Bayes classifier - freqBag\n",
    "classifier = sklearn.naive_bayes.GaussianNB()\n",
    "classifier.fit(yelpTrainFreqBag, yelp_train[1])\n",
    "result = classifier.predict(yelpTestFreqBag)\n",
    "sklearn.metrics.f1_score(yelp_test[1], result, average='micro')"
   ]
  },
  {
   "cell_type": "code",
   "execution_count": 76,
   "metadata": {},
   "outputs": [
    {
     "data": {
      "text/plain": [
       "0.32050000000000001"
      ]
     },
     "execution_count": 76,
     "metadata": {},
     "output_type": "execute_result"
    }
   ],
   "source": [
    "# Decision Tree classifier - binBag\n",
    "tree = sklearn.tree.DecisionTreeClassifier()\n",
    "tree.fit(yelpTrainBinBag, yelp_train[1])\n",
    "result = tree.predict(yelpTestBinBag)\n",
    "sklearn.metrics.f1_score(yelp_test[1], result, average='micro')"
   ]
  },
  {
   "cell_type": "code",
   "execution_count": null,
   "metadata": {
    "collapsed": true
   },
   "outputs": [],
   "source": [
    "# Decision Tree classifier - binBag - hyper-parameter tuning\n"
   ]
  },
  {
   "cell_type": "code",
   "execution_count": 87,
   "metadata": {},
   "outputs": [
    {
     "data": {
      "text/plain": [
       "0.29549999999999998"
      ]
     },
     "execution_count": 87,
     "metadata": {},
     "output_type": "execute_result"
    }
   ],
   "source": [
    "# Decision Tree classifier - freqBag\n",
    "tree = sklearn.tree.DecisionTreeClassifier()\n",
    "tree.fit(yelpTrainFreqBag, yelp_train[1])\n",
    "result = tree.predict(yelpTestFreqBag)\n",
    "sklearn.metrics.f1_score(yelp_test[1], result, average='micro')"
   ]
  },
  {
   "cell_type": "code",
   "execution_count": null,
   "metadata": {
    "collapsed": true
   },
   "outputs": [],
   "source": [
    "# Decision Tree classifier - freqBag - hyper-parameter tuning\n"
   ]
  },
  {
   "cell_type": "code",
   "execution_count": 80,
   "metadata": {},
   "outputs": [
    {
     "data": {
      "text/plain": [
       "0.37050000000000005"
      ]
     },
     "execution_count": 80,
     "metadata": {},
     "output_type": "execute_result"
    }
   ],
   "source": [
    "# Linear SVM - binBag\n",
    "svm = sklearn.svm.LinearSVC()\n",
    "svm.fit(yelpTrainBinBag, yelp_train[1])\n",
    "result = svm.predict(yelpTestBinBag)\n",
    "sklearn.metrics.f1_score(yelp_test[1], result, average='micro')"
   ]
  },
  {
   "cell_type": "code",
   "execution_count": null,
   "metadata": {
    "collapsed": true
   },
   "outputs": [],
   "source": [
    "# Linear SVM - binBag - hyper-parameter tuning\n"
   ]
  },
  {
   "cell_type": "code",
   "execution_count": 88,
   "metadata": {},
   "outputs": [
    {
     "data": {
      "text/plain": [
       "0.39050000000000007"
      ]
     },
     "execution_count": 88,
     "metadata": {},
     "output_type": "execute_result"
    }
   ],
   "source": [
    "# Linear SVM - freqBag\n",
    "svm = sklearn.svm.LinearSVC()\n",
    "svm.fit(yelpTrainFreqBag, yelp_train[1])\n",
    "result = svm.predict(yelpTestFreqBag)\n",
    "sklearn.metrics.f1_score(yelp_test[1], result, average='micro')"
   ]
  },
  {
   "cell_type": "code",
   "execution_count": null,
   "metadata": {
    "collapsed": true
   },
   "outputs": [],
   "source": [
    "# Linear SVM - freqBag - hyper-parameter tuning\n"
   ]
  },
  {
   "cell_type": "markdown",
   "metadata": {},
   "source": [
    "# IMDB"
   ]
  },
  {
   "cell_type": "code",
   "execution_count": 90,
   "metadata": {},
   "outputs": [
    {
     "data": {
      "text/plain": [
       "0.50168000000000001"
      ]
     },
     "execution_count": 90,
     "metadata": {},
     "output_type": "execute_result"
    }
   ],
   "source": [
    "# Random classifier\n",
    "rand = np.random.choice([0,1], len(imdb_test[1]))\n",
    "sklearn.metrics.f1_score(imdb_test[1], rand, average='micro')"
   ]
  },
  {
   "cell_type": "code",
   "execution_count": 92,
   "metadata": {},
   "outputs": [
    {
     "data": {
      "text/plain": [
       "0.5"
      ]
     },
     "execution_count": 92,
     "metadata": {},
     "output_type": "execute_result"
    }
   ],
   "source": [
    "# Majority-class classifier\n",
    "majority = np.argmax(np.bincount(imdb_train[1]))\n",
    "majorityArr = np.array([majority]*len(imdb_test[1]))\n",
    "sklearn.metrics.f1_score(imdb_test[1], majorityArr, average='micro')"
   ]
  },
  {
   "cell_type": "code",
   "execution_count": 93,
   "metadata": {},
   "outputs": [
    {
     "data": {
      "text/plain": [
       "0.55115999999999998"
      ]
     },
     "execution_count": 93,
     "metadata": {},
     "output_type": "execute_result"
    }
   ],
   "source": [
    "# Naive Bayes classifier - binBag\n",
    "classifier = sklearn.naive_bayes.BernoulliNB()\n",
    "classifier.fit(imdbTrainBinBag, imdb_train[1])\n",
    "result = classifier.predict(imdbTestBinBag)\n",
    "sklearn.metrics.f1_score(imdb_test[1], result, average='micro')"
   ]
  },
  {
   "cell_type": "code",
   "execution_count": 152,
   "metadata": {
    "collapsed": true
   },
   "outputs": [],
   "source": [
    "# Naive Bayes classifier - binBag - hyper-parameter tuning\n",
    "alphas = np.linspace(2, 4, 100)\n",
    "f1s = []\n",
    "for a in alphas:\n",
    "    classifier = sklearn.naive_bayes.BernoulliNB(alpha=a)\n",
    "    classifier.fit(imdbTrainBinBag, imdb_train[1])\n",
    "    result = classifier.predict(imdbValidBinBag)\n",
    "    f1s.append(sklearn.metrics.f1_score(imdb_valid[1], result, average='micro'))"
   ]
  },
  {
   "cell_type": "code",
   "execution_count": 153,
   "metadata": {},
   "outputs": [
    {
     "data": {
      "text/plain": [
       "Text(0.5,1,'fMeasure vs alpha')"
      ]
     },
     "execution_count": 153,
     "metadata": {},
     "output_type": "execute_result"
    },
    {
     "data": {
      "image/png": "[encoded data removed]",
      "text/plain": [
       "<matplotlib.figure.Figure at 0x2240129b0f0>"
      ]
     },
     "metadata": {},
     "output_type": "display_data"
    }
   ],
   "source": [
    "plt.plot(alphas, f1s, c='b')\n",
    "plt.xlabel(\"alpha\")\n",
    "plt.ylabel(\"fMeasure\")\n",
    "plt.title(\"fMeasure vs alpha\")"
   ]
  },
  {
   "cell_type": "code",
   "execution_count": 154,
   "metadata": {},
   "outputs": [
    {
     "name": "stdout",
     "output_type": "stream",
     "text": [
      "3.9595959596\n"
     ]
    },
    {
     "data": {
      "text/plain": [
       "0.55120000000000002"
      ]
     },
     "execution_count": 154,
     "metadata": {},
     "output_type": "execute_result"
    }
   ],
   "source": [
    "bestAlpha = alphas[np.argmax(f1s)]\n",
    "print(bestAlpha)\n",
    "\n",
    "classifier = sklearn.naive_bayes.BernoulliNB(alpha=bestAlpha)\n",
    "classifier.fit(imdbTrainBinBag, imdb_train[1])\n",
    "result = classifier.predict(imdbTestBinBag)\n",
    "sklearn.metrics.f1_score(imdb_test[1], result, average='micro')"
   ]
  },
  {
   "cell_type": "code",
   "execution_count": 94,
   "metadata": {},
   "outputs": [
    {
     "data": {
      "text/plain": [
       "0.51632"
      ]
     },
     "execution_count": 94,
     "metadata": {},
     "output_type": "execute_result"
    }
   ],
   "source": [
    "# Naive Bayes classifier - freqBag\n",
    "classifier = sklearn.naive_bayes.GaussianNB()\n",
    "classifier.fit(imdbTrainFreqBag, imdb_train[1])\n",
    "result = classifier.predict(imdbTestFreqBag)\n",
    "sklearn.metrics.f1_score(imdb_test[1], result, average='micro')"
   ]
  },
  {
   "cell_type": "code",
   "execution_count": 95,
   "metadata": {},
   "outputs": [
    {
     "data": {
      "text/plain": [
       "0.53956000000000004"
      ]
     },
     "execution_count": 95,
     "metadata": {},
     "output_type": "execute_result"
    }
   ],
   "source": [
    "# Decision Tree classifier - binBag\n",
    "tree = sklearn.tree.DecisionTreeClassifier()\n",
    "tree.fit(imdbTrainBinBag, imdb_train[1])\n",
    "result = tree.predict(imdbTestBinBag)\n",
    "sklearn.metrics.f1_score(imdb_test[1], result, average='micro')"
   ]
  },
  {
   "cell_type": "code",
   "execution_count": null,
   "metadata": {
    "collapsed": true
   },
   "outputs": [],
   "source": [
    "# Decision Tree classifier - binBag - hyper-parameter tuning\n"
   ]
  },
  {
   "cell_type": "code",
   "execution_count": 96,
   "metadata": {},
   "outputs": [
    {
     "data": {
      "text/plain": [
       "0.53847999999999996"
      ]
     },
     "execution_count": 96,
     "metadata": {},
     "output_type": "execute_result"
    }
   ],
   "source": [
    "# Decision Tree classifier - freqBag\n",
    "tree = sklearn.tree.DecisionTreeClassifier()\n",
    "tree.fit(imdbTrainFreqBag, imdb_train[1])\n",
    "result = tree.predict(imdbTestFreqBag)\n",
    "sklearn.metrics.f1_score(imdb_test[1], result, average='micro')"
   ]
  },
  {
   "cell_type": "code",
   "execution_count": null,
   "metadata": {
    "collapsed": true
   },
   "outputs": [],
   "source": [
    "# Decision Tree classifier - freqBag - hyper-parameter tuning\n"
   ]
  },
  {
   "cell_type": "code",
   "execution_count": 97,
   "metadata": {},
   "outputs": [
    {
     "data": {
      "text/plain": [
       "0.55664000000000002"
      ]
     },
     "execution_count": 97,
     "metadata": {},
     "output_type": "execute_result"
    }
   ],
   "source": [
    "# Linear SVM - binBag\n",
    "svm = sklearn.svm.LinearSVC()\n",
    "svm.fit(imdbTrainBinBag, imdb_train[1])\n",
    "result = svm.predict(imdbTestBinBag)\n",
    "sklearn.metrics.f1_score(imdb_test[1], result, average='micro')"
   ]
  },
  {
   "cell_type": "code",
   "execution_count": null,
   "metadata": {
    "collapsed": true
   },
   "outputs": [],
   "source": [
    "# Linear SVM - binBag - hyper-parameter tuning\n"
   ]
  },
  {
   "cell_type": "code",
   "execution_count": 98,
   "metadata": {},
   "outputs": [
    {
     "data": {
      "text/plain": [
       "0.61228000000000005"
      ]
     },
     "execution_count": 98,
     "metadata": {},
     "output_type": "execute_result"
    }
   ],
   "source": [
    "# Linear SVM - freqBag\n",
    "svm = sklearn.svm.LinearSVC()\n",
    "svm.fit(imdbTrainFreqBag, imdb_train[1])\n",
    "result = svm.predict(imdbTestFreqBag)\n",
    "sklearn.metrics.f1_score(imdb_test[1], result, average='micro')"
   ]
  },
  {
   "cell_type": "code",
   "execution_count": null,
   "metadata": {
    "collapsed": true
   },
   "outputs": [],
   "source": [
    "# Linear SVM - freqBag - hyper-parameter tuning\n"
   ]
  }
 ],
 "metadata": {
  "kernelspec": {
   "display_name": "Python 3",
   "language": "python",
   "name": "python3"
  },
  "language_info": {
   "codemirror_mode": {
    "name": "ipython",
    "version": 3
   },
   "file_extension": ".py",
   "mimetype": "text/x-python",
   "name": "python",
   "nbconvert_exporter": "python",
   "pygments_lexer": "ipython3",
   "version": "3.6.3"
  }
 },
 "nbformat": 4,
 "nbformat_minor": 2
}

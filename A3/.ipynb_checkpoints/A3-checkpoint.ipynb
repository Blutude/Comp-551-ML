{
 "cells": [
  {
   "cell_type": "code",
   "execution_count": 79,
   "metadata": {},
   "outputs": [],
   "source": [
    "import pandas as pd\n",
    "import numpy as np\n",
    "import string\n",
    "import matplotlib.pyplot as plt\n",
    "from collections import Counter\n",
    "import sklearn.metrics\n",
    "import sklearn.naive_bayes\n",
    "import sklearn.tree\n",
    "import sklearn.svm\n",
    "%matplotlib inline"
   ]
  },
  {
   "cell_type": "code",
   "execution_count": 2,
   "metadata": {
    "collapsed": true
   },
   "outputs": [],
   "source": [
    "yelp_test = pd.read_csv('Datasets/yelp-test-ORIGINAL.txt', header=None, sep=\"\\t\")\n",
    "yelp_train = pd.read_csv('Datasets/yelp-train-ORIGINAL.txt', header=None, sep=\"\\t\")\n",
    "yelp_valid = pd.read_csv('Datasets/yelp-valid-ORIGINAL.txt', header=None, sep=\"\\t\")"
   ]
  },
  {
   "cell_type": "code",
   "execution_count": 3,
   "metadata": {
    "collapsed": true
   },
   "outputs": [],
   "source": [
    "imdb_test = pd.read_csv('Datasets/IMDB-test-ORIGINAL.txt', header=None, sep=\"\\t\")\n",
    "imdb_train = pd.read_csv('Datasets/IMDB-train-ORIGINAL.txt', header=None, sep=\"\\t\")\n",
    "imdb_valid = pd.read_csv('Datasets/IMDB-valid-ORIGINAL.txt', header=None, sep=\"\\t\")"
   ]
  },
  {
   "cell_type": "code",
   "execution_count": 6,
   "metadata": {
    "collapsed": true
   },
   "outputs": [],
   "source": [
    "#Cleaning data and getting top 10000\n",
    "def getTopWords(reviews):\n",
    "    allWords = []\n",
    "    topWords = []\n",
    "    \n",
    "    for review in reviews[0]:\n",
    "        allWords.extend(review.lower().translate(str.maketrans(\"\",\"\", string.punctuation)).split(' '))\n",
    "    \n",
    "    c = Counter()\n",
    "    for word in allWords:\n",
    "        if (word != ''):\n",
    "            c[word] += 1\n",
    "        \n",
    "    topWords = c.most_common(10000)\n",
    "    return {tupl[0]: index for index, tupl in enumerate(topWords)}, [tupl[0] + '\\t' + str(index) + '\\t' + str(tupl[1])  for index, tupl in enumerate(topWords)]\n",
    "    "
   ]
  },
  {
   "cell_type": "code",
   "execution_count": 11,
   "metadata": {
    "collapsed": true
   },
   "outputs": [],
   "source": [
    "yelpDict, yelpOutput = getTopWords(yelp_train)"
   ]
  },
  {
   "cell_type": "code",
   "execution_count": 12,
   "metadata": {
    "collapsed": true
   },
   "outputs": [],
   "source": [
    "imdbDict, imdbOutput = getTopWords(imdb_train)"
   ]
  },
  {
   "cell_type": "code",
   "execution_count": 40,
   "metadata": {
    "collapsed": true
   },
   "outputs": [],
   "source": [
    "# Saving vocab data to .txt file\n",
    "\n",
    "f = open(\"Datasets/IMDB-vocab.txt\", 'w',encoding='utf-8')\n",
    "c = 0\n",
    "for line in imdbOutput:\n",
    "    if c == 0:  \n",
    "        f.write(line)\n",
    "    else:\n",
    "        f.write('\\n')\n",
    "        f.write(line)\n",
    "    c += 1\n",
    "f.close()\n",
    "\n",
    "f = open(\"Datasets/yelp-vocab.txt\", 'w',encoding='utf-8')\n",
    "c = 0\n",
    "for line in yelpOutput:\n",
    "    if c == 0:  \n",
    "        f.write(line)\n",
    "    else:\n",
    "        f.write('\\n')\n",
    "        f.write(line)\n",
    "    c += 1\n",
    "f.close()"
   ]
  },
  {
   "cell_type": "code",
   "execution_count": 48,
   "metadata": {},
   "outputs": [],
   "source": [
    "def saveReviewsIDs(dic, reviews, out):\n",
    "    f = open(out, 'w',encoding='utf-8')\n",
    "    c = 0\n",
    "    for review, categ in zip(reviews[0], reviews[1]):\n",
    "        if c != 0:\n",
    "            f.write('\\n')\n",
    "        r = review.lower().translate(str.maketrans(\"\",\"\", string.punctuation)).split(' ')\n",
    "        for index, word in enumerate(r):\n",
    "            if word in dic:\n",
    "                if index != 0:\n",
    "                    f.write(' ')\n",
    "                f.write(str(dic[word]))\n",
    "        f.write('\\t')\n",
    "        f.write(str(categ))\n",
    "        c += 1\n",
    "\n",
    "    f.close()"
   ]
  },
  {
   "cell_type": "code",
   "execution_count": 49,
   "metadata": {},
   "outputs": [],
   "source": [
    "saveReviewsIDs(imdbDict, imdb_test, \"Datasets/IMDB-test.txt\")\n",
    "saveReviewsIDs(imdbDict, imdb_train, \"Datasets/IMDB-train.txt\")\n",
    "saveReviewsIDs(imdbDict, imdb_valid, \"Datasets/IMDB-valid.txt\")\n",
    "\n",
    "saveReviewsIDs(yelpDict, yelp_test, \"Datasets/yelp-test.txt\")\n",
    "saveReviewsIDs(yelpDict, yelp_train, \"Datasets/yelp-train.txt\")\n",
    "saveReviewsIDs(yelpDict, yelp_valid, \"Datasets/yelp-valid.txt\")"
   ]
  },
  {
   "cell_type": "code",
   "execution_count": 54,
   "metadata": {
    "collapsed": true
   },
   "outputs": [],
   "source": [
    "def binBagWords(dictIndex, reviews):\n",
    "    m = []\n",
    "    for review in reviews[0]:\n",
    "        vect = [0] * len(dictIndex)\n",
    "        for word in review:\n",
    "            if word in dictIndex:\n",
    "                vect[dictIndex[word]] = 1\n",
    "        m.append(vect)\n",
    "    return np.array(m)"
   ]
  },
  {
   "cell_type": "code",
   "execution_count": 55,
   "metadata": {
    "collapsed": true
   },
   "outputs": [],
   "source": [
    "def freqBagWords(dictIndex, reviews):\n",
    "    m = []\n",
    "    for review in reviews[0]:\n",
    "        vect = [0] * len(dictIndex)\n",
    "        for word in review:\n",
    "            if word in dictIndex:\n",
    "                vect[dictIndex[word]] += 1\n",
    "        s = sum(vect)\n",
    "        if s > 0:\n",
    "            vect = np.divide(vect, s)\n",
    "        m.append(vect)\n",
    "    return np.array(m)"
   ]
  },
  {
   "cell_type": "code",
   "execution_count": 61,
   "metadata": {},
   "outputs": [],
   "source": [
    "yelpTrainBinBag = binBagWords(yelpDict, yelp_train)\n",
    "yelpTrainFreqBag = freqBagWords(yelpDict, yelp_train)\n",
    "\n",
    "yelpTestBinBag = binBagWords(yelpDict, yelp_test)\n",
    "yelpTestFreqBag = freqBagWords(yelpDict, yelp_test)\n",
    "\n",
    "yelpValidBinBag = binBagWords(yelpDict, yelp_valid)\n",
    "yelpValidFreqBag = freqBagWords(yelpDict, yelp_valid)"
   ]
  },
  {
   "cell_type": "code",
   "execution_count": 62,
   "metadata": {
    "collapsed": true
   },
   "outputs": [],
   "source": [
    "imdbTrainBinBag = binBagWords(imdbDict, imdb_train)\n",
    "imdbTrainFreqBag = freqBagWords(imdbDict, imdb_train)\n",
    "\n",
    "imdbTestBinBag = binBagWords(imdbDict, imdb_test)\n",
    "imdbTestFreqBag = freqBagWords(imdbDict, imdb_test)\n",
    "\n",
    "imdbValidBinBag = binBagWords(imdbDict, imdb_valid)\n",
    "imdbValidFreqBag = freqBagWords(imdbDict, imdb_valid)"
   ]
  },
  {
   "cell_type": "markdown",
   "metadata": {},
   "source": [
    "# YELP"
   ]
  },
  {
   "cell_type": "code",
   "execution_count": 202,
   "metadata": {},
   "outputs": [
    {
     "data": {
      "text/plain": [
       "0.20499999999999999"
      ]
     },
     "execution_count": 202,
     "metadata": {},
     "output_type": "execute_result"
    }
   ],
   "source": [
    "# Random classifier\n",
    "rand = np.random.choice([1,2,3,4,5], len(yelp_test[1]))\n",
    "sklearn.metrics.f1_score(yelp_test[1], rand, average='micro')"
   ]
  },
  {
   "cell_type": "code",
   "execution_count": 203,
   "metadata": {},
   "outputs": [
    {
     "data": {
      "text/plain": [
       "0.35099999999999998"
      ]
     },
     "execution_count": 203,
     "metadata": {},
     "output_type": "execute_result"
    }
   ],
   "source": [
    "# Majority-class classifier\n",
    "majority = np.argmax(np.bincount(yelp_train[1]))\n",
    "majorityArr = np.array([majority]*len(yelp_test[1]))\n",
    "sklearn.metrics.f1_score(yelp_test[1], majorityArr, average='micro')"
   ]
  },
  {
   "cell_type": "code",
   "execution_count": 204,
   "metadata": {},
   "outputs": [
    {
     "data": {
      "text/plain": [
       "0.36449999999999999"
      ]
     },
     "execution_count": 204,
     "metadata": {},
     "output_type": "execute_result"
    }
   ],
   "source": [
    "# Naive Bayes classifier - binBag\n",
    "classifier = sklearn.naive_bayes.BernoulliNB()\n",
    "classifier.fit(yelpTrainBinBag, yelp_train[1])\n",
    "result = classifier.predict(yelpTestBinBag)\n",
    "sklearn.metrics.f1_score(yelp_test[1], result, average='micro')"
   ]
  },
  {
   "cell_type": "code",
   "execution_count": 205,
   "metadata": {},
   "outputs": [],
   "source": [
    "# Naive Bayes classifier - binBag - hyper-parameter tuning\n",
    "alphas = np.linspace(2, 4, 50)\n",
    "f1s = []\n",
    "for a in alphas:\n",
    "    classifier = sklearn.naive_bayes.BernoulliNB(alpha=a)\n",
    "    classifier.fit(yelpTrainBinBag, yelp_train[1])\n",
    "    result = classifier.predict(yelpValidBinBag)\n",
    "    f1s.append(sklearn.metrics.f1_score(yelp_valid[1], result, average='micro'))"
   ]
  },
  {
   "cell_type": "code",
   "execution_count": 206,
   "metadata": {},
   "outputs": [
    {
     "data": {
      "text/plain": [
       "Text(0.5,1,'fMeasure vs alpha')"
      ]
     },
     "execution_count": 206,
     "metadata": {},
     "output_type": "execute_result"
    },
    {
     "data": {
      "image/png": "[encoded data removed]",
      "text/plain": [
       "<matplotlib.figure.Figure at 0x2240130be10>"
      ]
     },
     "metadata": {},
     "output_type": "display_data"
    }
   ],
   "source": [
    "plt.plot(alphas, f1s, c='b')\n",
    "plt.xlabel(\"alpha\")\n",
    "plt.ylabel(\"fMeasure\")\n",
    "plt.title(\"fMeasure vs alpha\")"
   ]
  },
  {
   "cell_type": "code",
   "execution_count": 207,
   "metadata": {},
   "outputs": [
    {
     "name": "stdout",
     "output_type": "stream",
     "text": [
      "Best Alpha 2.69387755102\n",
      "Max FMeasure for valid 0.369\n",
      "FMeasure for test 0.3625\n"
     ]
    }
   ],
   "source": [
    "bestAlpha = alphas[np.argmax(f1s)]\n",
    "print(\"Best Alpha \" + str(bestAlpha))\n",
    "print(\"Max FMeasure for valid \" + str(np.max(f1s)))\n",
    "\n",
    "classifier = sklearn.naive_bayes.BernoulliNB(alpha=bestAlpha)\n",
    "classifier.fit(yelpTrainBinBag, yelp_train[1])\n",
    "result = classifier.predict(yelpTestBinBag)\n",
    "print(\"FMeasure for test \" + str(sklearn.metrics.f1_score(yelp_test[1], result, average='micro')))"
   ]
  },
  {
   "cell_type": "code",
   "execution_count": 208,
   "metadata": {},
   "outputs": [
    {
     "data": {
      "text/plain": [
       "0.28649999999999998"
      ]
     },
     "execution_count": 208,
     "metadata": {},
     "output_type": "execute_result"
    }
   ],
   "source": [
    "# Naive Bayes classifier - freqBag\n",
    "classifier = sklearn.naive_bayes.GaussianNB()\n",
    "classifier.fit(yelpTrainFreqBag, yelp_train[1])\n",
    "result = classifier.predict(yelpTestFreqBag)\n",
    "sklearn.metrics.f1_score(yelp_test[1], result, average='micro')"
   ]
  },
  {
   "cell_type": "code",
   "execution_count": 209,
   "metadata": {},
   "outputs": [
    {
     "data": {
      "text/plain": [
       "0.318"
      ]
     },
     "execution_count": 209,
     "metadata": {},
     "output_type": "execute_result"
    }
   ],
   "source": [
    "# Decision Tree classifier - binBag\n",
    "tree = sklearn.tree.DecisionTreeClassifier()\n",
    "tree.fit(yelpTrainBinBag, yelp_train[1])\n",
    "result = tree.predict(yelpTestBinBag)\n",
    "sklearn.metrics.f1_score(yelp_test[1], result, average='micro')"
   ]
  },
  {
   "cell_type": "code",
   "execution_count": 210,
   "metadata": {},
   "outputs": [
    {
     "name": "stdout",
     "output_type": "stream",
     "text": [
      "Highest FMeasure for valid 0.314\n",
      "For criteria gini and splitter random\n",
      "FMeasure for test 0.322\n"
     ]
    }
   ],
   "source": [
    "# Decision Tree classifier - binBag - hyper-parameter tuning\n",
    "f1s = []\n",
    "criterion = [\"gini\", \"entropy\"]\n",
    "splitter = [\"best\", \"random\"]\n",
    "\n",
    "for c in criterion:\n",
    "    for s in splitter:\n",
    "        tree = sklearn.tree.DecisionTreeClassifier(criterion=c, splitter=s)\n",
    "        tree.fit(yelpTrainBinBag, yelp_train[1])\n",
    "        result = tree.predict(yelpValidBinBag)\n",
    "        f1s.append(sklearn.metrics.f1_score(yelp_valid[1], result, average='micro'))\n",
    "        \n",
    "highestF1 = np.max(f1s)\n",
    "print(\"Highest FMeasure for valid \"+ str(highestF1))\n",
    "arg = np.argmax(f1s)\n",
    "if arg==0 or arg==1:\n",
    "    c = \"gini\"\n",
    "else:\n",
    "    c = \"entropy\"\n",
    "if arg==0 or arg==2:\n",
    "    s = \"best\"\n",
    "else:\n",
    "    s = \"random\"\n",
    "    \n",
    "print(\"For criteria \" + str(c) + \" and splitter \" + str(s))\n",
    "\n",
    "tree = sklearn.tree.DecisionTreeClassifier(criterion=c, splitter=s)\n",
    "tree.fit(yelpTrainBinBag, yelp_train[1])\n",
    "result = tree.predict(yelpTestBinBag)\n",
    "print(\"FMeasure for test \" + str(sklearn.metrics.f1_score(yelp_test[1], result, average='micro')))"
   ]
  },
  {
   "cell_type": "code",
   "execution_count": 211,
   "metadata": {},
   "outputs": [
    {
     "data": {
      "text/plain": [
       "0.29949999999999999"
      ]
     },
     "execution_count": 211,
     "metadata": {},
     "output_type": "execute_result"
    }
   ],
   "source": [
    "# Decision Tree classifier - freqBag\n",
    "tree = sklearn.tree.DecisionTreeClassifier()\n",
    "tree.fit(yelpTrainFreqBag, yelp_train[1])\n",
    "result = tree.predict(yelpTestFreqBag)\n",
    "sklearn.metrics.f1_score(yelp_test[1], result, average='micro')"
   ]
  },
  {
   "cell_type": "code",
   "execution_count": 212,
   "metadata": {},
   "outputs": [
    {
     "name": "stdout",
     "output_type": "stream",
     "text": [
      "Highest FMeasure for valid 0.307\n",
      "For criteria gini and splitter random\n",
      "FMeasure for test 0.2885\n"
     ]
    }
   ],
   "source": [
    "# Decision Tree classifier - freqBag - hyper-parameter tuning\n",
    "f1s = []\n",
    "criterion = [\"gini\", \"entropy\"]\n",
    "splitter = [\"best\", \"random\"]\n",
    "\n",
    "for c in criterion:\n",
    "    for s in splitter:\n",
    "        tree = sklearn.tree.DecisionTreeClassifier(criterion=c, splitter=s)\n",
    "        tree.fit(yelpTrainFreqBag, yelp_train[1])\n",
    "        result = tree.predict(yelpValidFreqBag)\n",
    "        f1s.append(sklearn.metrics.f1_score(yelp_valid[1], result, average='micro'))\n",
    "        \n",
    "highestF1 = np.max(f1s)\n",
    "print(\"Highest FMeasure for valid \"+ str(highestF1))\n",
    "arg = np.argmax(f1s)\n",
    "if arg==0 or arg==1:\n",
    "    c = \"gini\"\n",
    "else:\n",
    "    c = \"entropy\"\n",
    "if arg==0 or arg==2:\n",
    "    s = \"best\"\n",
    "else:\n",
    "    s = \"random\"\n",
    "    \n",
    "print(\"For criteria \" + str(c) + \" and splitter \" + str(s))\n",
    "\n",
    "tree = sklearn.tree.DecisionTreeClassifier(criterion=c, splitter=s)\n",
    "tree.fit(yelpTrainFreqBag, yelp_train[1])\n",
    "result = tree.predict(yelpTestFreqBag)\n",
    "print(\"FMeasure for test \" + str(sklearn.metrics.f1_score(yelp_test[1], result, average='micro')))"
   ]
  },
  {
   "cell_type": "code",
   "execution_count": 213,
   "metadata": {},
   "outputs": [
    {
     "data": {
      "text/plain": [
       "0.37050000000000005"
      ]
     },
     "execution_count": 213,
     "metadata": {},
     "output_type": "execute_result"
    }
   ],
   "source": [
    "# Linear SVM - binBag\n",
    "svm = sklearn.svm.LinearSVC()\n",
    "svm.fit(yelpTrainBinBag, yelp_train[1])\n",
    "result = svm.predict(yelpTestBinBag)\n",
    "sklearn.metrics.f1_score(yelp_test[1], result, average='micro')"
   ]
  },
  {
   "cell_type": "code",
   "execution_count": 214,
   "metadata": {},
   "outputs": [
    {
     "name": "stdout",
     "output_type": "stream",
     "text": [
      "Highest FMeasure for valid 0.348\n",
      "For penalty l1 and loss -\n",
      "FMeasure for test 0.367\n"
     ]
    }
   ],
   "source": [
    "# Linear SVM - binBag - hyper-parameter tuning\n",
    "f1s = []\n",
    "penalty = [\"l1\", \"l2\"]\n",
    "loss = [\"hinge\", \"squared_hinge\"]\n",
    "\n",
    "for p in penalty:\n",
    "    if p==\"l1\": # combination of \"l1\" and (\"hinge\" or \"squared_hinge\") is not supported\n",
    "        svm = sklearn.svm.LinearSVC(penalty=p, dual=False)\n",
    "        svm.fit(yelpTrainBinBag, yelp_train[1])\n",
    "        result = svm.predict(yelpValidBinBag)\n",
    "        f1s.append(sklearn.metrics.f1_score(yelp_valid[1], result, average='micro'))\n",
    "    else:\n",
    "        for l in loss:\n",
    "            svm = sklearn.svm.LinearSVC(penalty=p, loss=l)\n",
    "            svm.fit(yelpTrainBinBag, yelp_train[1])\n",
    "            result = svm.predict(yelpValidBinBag)\n",
    "            f1s.append(sklearn.metrics.f1_score(yelp_valid[1], result, average='micro'))\n",
    "        \n",
    "highestF1 = np.max(f1s)\n",
    "print(\"Highest FMeasure for valid \"+ str(highestF1))\n",
    "arg = np.argmax(f1s)\n",
    "if arg==0:\n",
    "    p = \"l1\"\n",
    "    l = \"-\"\n",
    "elif arg==1:\n",
    "    p = \"l2\"\n",
    "    l = \"hinge\"\n",
    "elif arg==2:\n",
    "    p = \"l2\"\n",
    "    l = \"squared_hinge\"\n",
    "    \n",
    "print(\"For penalty \" + str(p) + \" and loss \" + str(l))\n",
    "\n",
    "if l==\"-\":\n",
    "    svm = sklearn.svm.LinearSVC(penalty=p, dual=False)\n",
    "else:\n",
    "    svm = sklearn.svm.LinearSVC(penalty=p, loss=l)\n",
    "svm.fit(yelpTrainBinBag, yelp_train[1])\n",
    "result = svm.predict(yelpTestBinBag)\n",
    "print(\"FMeasure for test \" + str(sklearn.metrics.f1_score(yelp_test[1], result, average='micro')))"
   ]
  },
  {
   "cell_type": "code",
   "execution_count": 215,
   "metadata": {},
   "outputs": [
    {
     "data": {
      "text/plain": [
       "0.39050000000000007"
      ]
     },
     "execution_count": 215,
     "metadata": {},
     "output_type": "execute_result"
    }
   ],
   "source": [
    "# Linear SVM - freqBag\n",
    "svm = sklearn.svm.LinearSVC()\n",
    "svm.fit(yelpTrainFreqBag, yelp_train[1])\n",
    "result = svm.predict(yelpTestFreqBag)\n",
    "sklearn.metrics.f1_score(yelp_test[1], result, average='micro')"
   ]
  },
  {
   "cell_type": "code",
   "execution_count": 216,
   "metadata": {},
   "outputs": [
    {
     "name": "stdout",
     "output_type": "stream",
     "text": [
      "Highest FMeasure for valid 0.377\n",
      "For penalty l2 and loss squared_hinge\n",
      "FMeasure for test 0.3905\n"
     ]
    }
   ],
   "source": [
    "# Linear SVM - freqBag - hyper-parameter tuning\n",
    "f1s = []\n",
    "penalty = [\"l1\", \"l2\"]\n",
    "loss = [\"hinge\", \"squared_hinge\"]\n",
    "\n",
    "for p in penalty:\n",
    "    if p==\"l1\": # combination of \"l1\" and (\"hinge\" or \"squared_hinge\") is not supported\n",
    "        svm = sklearn.svm.LinearSVC(penalty=p, dual=False)\n",
    "        svm.fit(yelpTrainFreqBag, yelp_train[1])\n",
    "        result = svm.predict(yelpValidFreqBag)\n",
    "        f1s.append(sklearn.metrics.f1_score(yelp_valid[1], result, average='micro'))\n",
    "    else:\n",
    "        for l in loss:\n",
    "            svm = sklearn.svm.LinearSVC(penalty=p, loss=l)\n",
    "            svm.fit(yelpTrainFreqBag, yelp_train[1])\n",
    "            result = svm.predict(yelpValidFreqBag)\n",
    "            f1s.append(sklearn.metrics.f1_score(yelp_valid[1], result, average='micro'))\n",
    "        \n",
    "highestF1 = np.max(f1s)\n",
    "print(\"Highest FMeasure for valid \"+ str(highestF1))\n",
    "arg = np.argmax(f1s)\n",
    "if arg==0:\n",
    "    p = \"l1\"\n",
    "    l = \"-\"\n",
    "elif arg==1:\n",
    "    p = \"l2\"\n",
    "    l = \"hinge\"\n",
    "elif arg==2:\n",
    "    p = \"l2\"\n",
    "    l = \"squared_hinge\"\n",
    "    \n",
    "print(\"For penalty \" + str(p) + \" and loss \" + str(l))\n",
    "\n",
    "if l==\"-\":\n",
    "    svm = sklearn.svm.LinearSVC(penalty=p, dual=False)\n",
    "else:\n",
    "    svm = sklearn.svm.LinearSVC(penalty=p, loss=l)\n",
    "svm.fit(yelpTrainFreqBag, yelp_train[1])\n",
    "result = svm.predict(yelpTestFreqBag)\n",
    "print(\"FMeasure for test \" + str(sklearn.metrics.f1_score(yelp_test[1], result, average='micro')))"
   ]
  },
  {
   "cell_type": "markdown",
   "metadata": {},
   "source": [
    "# IMDB"
   ]
  },
  {
   "cell_type": "code",
   "execution_count": 217,
   "metadata": {},
   "outputs": [
    {
     "data": {
      "text/plain": [
       "0.50060000000000004"
      ]
     },
     "execution_count": 217,
     "metadata": {},
     "output_type": "execute_result"
    }
   ],
   "source": [
    "# Random classifier\n",
    "rand = np.random.choice([0,1], len(imdb_test[1]))\n",
    "sklearn.metrics.f1_score(imdb_test[1], rand, average='micro')"
   ]
  },
  {
   "cell_type": "code",
   "execution_count": 218,
   "metadata": {},
   "outputs": [
    {
     "data": {
      "text/plain": [
       "0.5"
      ]
     },
     "execution_count": 218,
     "metadata": {},
     "output_type": "execute_result"
    }
   ],
   "source": [
    "# Majority-class classifier\n",
    "majority = np.argmax(np.bincount(imdb_train[1]))\n",
    "majorityArr = np.array([majority]*len(imdb_test[1]))\n",
    "sklearn.metrics.f1_score(imdb_test[1], majorityArr, average='micro')"
   ]
  },
  {
   "cell_type": "code",
   "execution_count": 219,
   "metadata": {},
   "outputs": [
    {
     "data": {
      "text/plain": [
       "0.55115999999999998"
      ]
     },
     "execution_count": 219,
     "metadata": {},
     "output_type": "execute_result"
    }
   ],
   "source": [
    "# Naive Bayes classifier - binBag\n",
    "classifier = sklearn.naive_bayes.BernoulliNB()\n",
    "classifier.fit(imdbTrainBinBag, imdb_train[1])\n",
    "result = classifier.predict(imdbTestBinBag)\n",
    "sklearn.metrics.f1_score(imdb_test[1], result, average='micro')"
   ]
  },
  {
   "cell_type": "code",
   "execution_count": 235,
   "metadata": {
    "collapsed": true
   },
   "outputs": [],
   "source": [
    "# Naive Bayes classifier - binBag - hyper-parameter tuning\n",
    "alphas = np.linspace(3, 5, 50)\n",
    "f1s = []\n",
    "for a in alphas:\n",
    "    classifier = sklearn.naive_bayes.BernoulliNB(alpha=a)\n",
    "    classifier.fit(imdbTrainBinBag, imdb_train[1])\n",
    "    result = classifier.predict(imdbValidBinBag)\n",
    "    f1s.append(sklearn.metrics.f1_score(imdb_valid[1], result, average='micro'))"
   ]
  },
  {
   "cell_type": "code",
   "execution_count": 236,
   "metadata": {},
   "outputs": [
    {
     "data": {
      "text/plain": [
       "Text(0.5,1,'fMeasure vs alpha')"
      ]
     },
     "execution_count": 236,
     "metadata": {},
     "output_type": "execute_result"
    },
    {
     "data": {
      "image/png": "[encoded data removed]",
      "text/plain": [
       "<matplotlib.figure.Figure at 0x22401304908>"
      ]
     },
     "metadata": {},
     "output_type": "display_data"
    }
   ],
   "source": [
    "plt.plot(alphas, f1s, c='b')\n",
    "plt.xlabel(\"alpha\")\n",
    "plt.ylabel(\"fMeasure\")\n",
    "plt.title(\"fMeasure vs alpha\")"
   ]
  },
  {
   "cell_type": "code",
   "execution_count": 237,
   "metadata": {},
   "outputs": [
    {
     "name": "stdout",
     "output_type": "stream",
     "text": [
      "Best Alpha 3.97959183673\n",
      "Max FMeasure for valid 0.543\n",
      "FMeasure for test 0.5512\n"
     ]
    }
   ],
   "source": [
    "bestAlpha = alphas[np.argmax(f1s)]\n",
    "print(\"Best Alpha \" + str(bestAlpha))\n",
    "print(\"Max FMeasure for valid \" + str(np.max(f1s)))\n",
    "\n",
    "classifier = sklearn.naive_bayes.BernoulliNB(alpha=bestAlpha)\n",
    "classifier.fit(imdbTrainBinBag, imdb_train[1])\n",
    "result = classifier.predict(imdbTestBinBag)\n",
    "print(\"FMeasure for test \" + str(sklearn.metrics.f1_score(imdb_test[1], result, average='micro')))"
   ]
  },
  {
   "cell_type": "code",
   "execution_count": 223,
   "metadata": {},
   "outputs": [
    {
     "data": {
      "text/plain": [
       "0.51632"
      ]
     },
     "execution_count": 223,
     "metadata": {},
     "output_type": "execute_result"
    }
   ],
   "source": [
    "# Naive Bayes classifier - freqBag\n",
    "classifier = sklearn.naive_bayes.GaussianNB()\n",
    "classifier.fit(imdbTrainFreqBag, imdb_train[1])\n",
    "result = classifier.predict(imdbTestFreqBag)\n",
    "sklearn.metrics.f1_score(imdb_test[1], result, average='micro')"
   ]
  },
  {
   "cell_type": "code",
   "execution_count": 224,
   "metadata": {},
   "outputs": [
    {
     "data": {
      "text/plain": [
       "0.53983999999999999"
      ]
     },
     "execution_count": 224,
     "metadata": {},
     "output_type": "execute_result"
    }
   ],
   "source": [
    "# Decision Tree classifier - binBag\n",
    "tree = sklearn.tree.DecisionTreeClassifier()\n",
    "tree.fit(imdbTrainBinBag, imdb_train[1])\n",
    "result = tree.predict(imdbTestBinBag)\n",
    "sklearn.metrics.f1_score(imdb_test[1], result, average='micro')"
   ]
  },
  {
   "cell_type": "code",
   "execution_count": 225,
   "metadata": {},
   "outputs": [
    {
     "name": "stdout",
     "output_type": "stream",
     "text": [
      "Highest FMeasure for valid 0.5381\n",
      "For criteria gini and splitter random\n",
      "FMeasure for test 0.53992\n"
     ]
    }
   ],
   "source": [
    "# Decision Tree classifier - binBag - hyper-parameter tuning\n",
    "f1s = []\n",
    "criterion = [\"gini\", \"entropy\"]\n",
    "splitter = [\"best\", \"random\"]\n",
    "\n",
    "for c in criterion:\n",
    "    for s in splitter:\n",
    "        tree = sklearn.tree.DecisionTreeClassifier(criterion=c, splitter=s)\n",
    "        tree.fit(imdbTrainBinBag, imdb_train[1])\n",
    "        result = tree.predict(imdbValidBinBag)\n",
    "        f1s.append(sklearn.metrics.f1_score(imdb_valid[1], result, average='micro'))\n",
    "        \n",
    "highestF1 = np.max(f1s)\n",
    "print(\"Highest FMeasure for valid \"+ str(highestF1))\n",
    "arg = np.argmax(f1s)\n",
    "if arg==0 or arg==1:\n",
    "    c = \"gini\"\n",
    "else:\n",
    "    c = \"entropy\"\n",
    "if arg==0 or arg==2:\n",
    "    s = \"best\"\n",
    "else:\n",
    "    s = \"random\"\n",
    "    \n",
    "print(\"For criteria \" + str(c) + \" and splitter \" + str(s))\n",
    "\n",
    "tree = sklearn.tree.DecisionTreeClassifier(criterion=c, splitter=s)\n",
    "tree.fit(imdbTrainBinBag, imdb_train[1])\n",
    "result = tree.predict(imdbTestBinBag)\n",
    "print(\"FMeasure for test \" + str(sklearn.metrics.f1_score(imdb_test[1], result, average='micro')))"
   ]
  },
  {
   "cell_type": "code",
   "execution_count": 226,
   "metadata": {},
   "outputs": [
    {
     "data": {
      "text/plain": [
       "0.53676000000000001"
      ]
     },
     "execution_count": 226,
     "metadata": {},
     "output_type": "execute_result"
    }
   ],
   "source": [
    "# Decision Tree classifier - freqBag\n",
    "tree = sklearn.tree.DecisionTreeClassifier()\n",
    "tree.fit(imdbTrainFreqBag, imdb_train[1])\n",
    "result = tree.predict(imdbTestFreqBag)\n",
    "sklearn.metrics.f1_score(imdb_test[1], result, average='micro')"
   ]
  },
  {
   "cell_type": "code",
   "execution_count": 227,
   "metadata": {},
   "outputs": [
    {
     "name": "stdout",
     "output_type": "stream",
     "text": [
      "Highest FMeasure for valid 0.5445\n",
      "For criteria entropy and splitter best\n",
      "FMeasure for test 0.54016\n"
     ]
    }
   ],
   "source": [
    "# Decision Tree classifier - freqBag - hyper-parameter tuning\n",
    "f1s = []\n",
    "criterion = [\"gini\", \"entropy\"]\n",
    "splitter = [\"best\", \"random\"]\n",
    "\n",
    "for c in criterion:\n",
    "    for s in splitter:\n",
    "        tree = sklearn.tree.DecisionTreeClassifier(criterion=c, splitter=s)\n",
    "        tree.fit(imdbTrainFreqBag, imdb_train[1])\n",
    "        result = tree.predict(imdbValidFreqBag)\n",
    "        f1s.append(sklearn.metrics.f1_score(imdb_valid[1], result, average='micro'))\n",
    "        \n",
    "highestF1 = np.max(f1s)\n",
    "print(\"Highest FMeasure for valid \"+ str(highestF1))\n",
    "arg = np.argmax(f1s)\n",
    "if arg==0 or arg==1:\n",
    "    c = \"gini\"\n",
    "else:\n",
    "    c = \"entropy\"\n",
    "if arg==0 or arg==2:\n",
    "    s = \"best\"\n",
    "else:\n",
    "    s = \"random\"\n",
    "    \n",
    "print(\"For criteria \" + str(c) + \" and splitter \" + str(s))\n",
    "\n",
    "tree = sklearn.tree.DecisionTreeClassifier(criterion=c, splitter=s)\n",
    "tree.fit(imdbTrainFreqBag, imdb_train[1])\n",
    "result = tree.predict(imdbTestFreqBag)\n",
    "print(\"FMeasure for test \" + str(sklearn.metrics.f1_score(imdb_test[1], result, average='micro')))"
   ]
  },
  {
   "cell_type": "code",
   "execution_count": 228,
   "metadata": {},
   "outputs": [
    {
     "data": {
      "text/plain": [
       "0.55664000000000002"
      ]
     },
     "execution_count": 228,
     "metadata": {},
     "output_type": "execute_result"
    }
   ],
   "source": [
    "# Linear SVM - binBag\n",
    "svm = sklearn.svm.LinearSVC()\n",
    "svm.fit(imdbTrainBinBag, imdb_train[1])\n",
    "result = svm.predict(imdbTestBinBag)\n",
    "sklearn.metrics.f1_score(imdb_test[1], result, average='micro')"
   ]
  },
  {
   "cell_type": "code",
   "execution_count": 229,
   "metadata": {},
   "outputs": [
    {
     "name": "stdout",
     "output_type": "stream",
     "text": [
      "Highest FMeasure for valid 0.5508\n",
      "For penalty l2 and loss hinge\n",
      "FMeasure for test 0.55628\n"
     ]
    }
   ],
   "source": [
    "# Linear SVM - binBag - hyper-parameter tuning\n",
    "f1s = []\n",
    "penalty = [\"l1\", \"l2\"]\n",
    "loss = [\"hinge\", \"squared_hinge\"]\n",
    "\n",
    "for p in penalty:\n",
    "    if p==\"l1\": # combination of \"l1\" and (\"hinge\" or \"squared_hinge\") is not supported\n",
    "        svm = sklearn.svm.LinearSVC(penalty=p, dual=False)\n",
    "        svm.fit(imdbTrainBinBag, imdb_train[1])\n",
    "        result = svm.predict(imdbValidBinBag)\n",
    "        f1s.append(sklearn.metrics.f1_score(imdb_valid[1], result, average='micro'))\n",
    "    else:\n",
    "        for l in loss:\n",
    "            svm = sklearn.svm.LinearSVC(penalty=p, loss=l)\n",
    "            svm.fit(imdbTrainBinBag, imdb_train[1])\n",
    "            result = svm.predict(imdbValidBinBag)\n",
    "            f1s.append(sklearn.metrics.f1_score(imdb_valid[1], result, average='micro'))\n",
    "        \n",
    "highestF1 = np.max(f1s)\n",
    "print(\"Highest FMeasure for valid \"+ str(highestF1))\n",
    "arg = np.argmax(f1s)\n",
    "if arg==0:\n",
    "    p = \"l1\"\n",
    "    l = \"-\"\n",
    "elif arg==1:\n",
    "    p = \"l2\"\n",
    "    l = \"hinge\"\n",
    "elif arg==2:\n",
    "    p = \"l2\"\n",
    "    l = \"squared_hinge\"\n",
    "    \n",
    "print(\"For penalty \" + str(p) + \" and loss \" + str(l))\n",
    "\n",
    "if l==\"-\":\n",
    "    svm = sklearn.svm.LinearSVC(penalty=p, dual=False)\n",
    "else:\n",
    "    svm = sklearn.svm.LinearSVC(penalty=p, loss=l)\n",
    "svm.fit(imdbTrainBinBag, imdb_train[1])\n",
    "result = svm.predict(imdbTestBinBag)\n",
    "print(\"FMeasure for test \" + str(sklearn.metrics.f1_score(imdb_test[1], result, average='micro')))"
   ]
  },
  {
   "cell_type": "code",
   "execution_count": 230,
   "metadata": {},
   "outputs": [
    {
     "data": {
      "text/plain": [
       "0.61228000000000005"
      ]
     },
     "execution_count": 230,
     "metadata": {},
     "output_type": "execute_result"
    }
   ],
   "source": [
    "# Linear SVM - freqBag\n",
    "svm = sklearn.svm.LinearSVC()\n",
    "svm.fit(imdbTrainFreqBag, imdb_train[1])\n",
    "result = svm.predict(imdbTestFreqBag)\n",
    "sklearn.metrics.f1_score(imdb_test[1], result, average='micro')"
   ]
  },
  {
   "cell_type": "code",
   "execution_count": 231,
   "metadata": {},
   "outputs": [
    {
     "name": "stdout",
     "output_type": "stream",
     "text": [
      "Highest FMeasure for valid 0.6203\n",
      "For penalty l1 and loss -\n",
      "FMeasure for test 0.61744\n"
     ]
    }
   ],
   "source": [
    "# Linear SVM - freqBag - hyper-parameter tuning\n",
    "f1s = []\n",
    "penalty = [\"l1\", \"l2\"]\n",
    "loss = [\"hinge\", \"squared_hinge\"]\n",
    "\n",
    "for p in penalty:\n",
    "    if p==\"l1\": # combination of \"l1\" and (\"hinge\" or \"squared_hinge\") is not supported\n",
    "        svm = sklearn.svm.LinearSVC(penalty=p, dual=False)\n",
    "        svm.fit(imdbTrainFreqBag, imdb_train[1])\n",
    "        result = svm.predict(imdbValidFreqBag)\n",
    "        f1s.append(sklearn.metrics.f1_score(imdb_valid[1], result, average='micro'))\n",
    "    else:\n",
    "        for l in loss:\n",
    "            svm = sklearn.svm.LinearSVC(penalty=p, loss=l)\n",
    "            svm.fit(imdbTrainFreqBag, imdb_train[1])\n",
    "            result = svm.predict(imdbValidFreqBag)\n",
    "            f1s.append(sklearn.metrics.f1_score(imdb_valid[1], result, average='micro'))\n",
    "        \n",
    "highestF1 = np.max(f1s)\n",
    "print(\"Highest FMeasure for valid \"+ str(highestF1))\n",
    "arg = np.argmax(f1s)\n",
    "if arg==0:\n",
    "    p = \"l1\"\n",
    "    l = \"-\"\n",
    "elif arg==1:\n",
    "    p = \"l2\"\n",
    "    l = \"hinge\"\n",
    "elif arg==2:\n",
    "    p = \"l2\"\n",
    "    l = \"squared_hinge\"\n",
    "    \n",
    "print(\"For penalty \" + str(p) + \" and loss \" + str(l))\n",
    "\n",
    "if l==\"-\":\n",
    "    svm = sklearn.svm.LinearSVC(penalty=p, dual=False)\n",
    "else:\n",
    "    svm = sklearn.svm.LinearSVC(penalty=p, loss=l)\n",
    "svm.fit(imdbTrainFreqBag, imdb_train[1])\n",
    "result = svm.predict(imdbTestFreqBag)\n",
    "print(\"FMeasure for test \" + str(sklearn.metrics.f1_score(imdb_test[1], result, average='micro')))"
   ]
  }
 ],
 "metadata": {
  "kernelspec": {
   "display_name": "Python 3",
   "language": "python",
   "name": "python3"
  },
  "language_info": {
   "codemirror_mode": {
    "name": "ipython",
    "version": 3
   },
   "file_extension": ".py",
   "mimetype": "text/x-python",
   "name": "python",
   "nbconvert_exporter": "python",
   "pygments_lexer": "ipython3",
   "version": "3.6.3"
  }
 },
 "nbformat": 4,
 "nbformat_minor": 2
}

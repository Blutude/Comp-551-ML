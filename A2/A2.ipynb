{
 "cells": [
  {
   "cell_type": "markdown",
   "metadata": {},
   "source": [
    "# Question 1"
   ]
  },
  {
   "cell_type": "code",
   "execution_count": 203,
   "metadata": {},
   "outputs": [],
   "source": [
    "import pandas as pd\n",
    "import numpy as np\n",
    "import matplotlib.pyplot as plt\n",
    "%matplotlib inline"
   ]
  },
  {
   "cell_type": "code",
   "execution_count": 204,
   "metadata": {},
   "outputs": [],
   "source": [
    "meanNegativeDS1 = pd.read_csv(\"Datasets/DS1_m_0.txt\", header=None).drop([20], axis=1).as_matrix().flatten()\n",
    "meanPositiveDS1 = pd.read_csv(\"Datasets/DS1_m_1.txt\", header=None).drop([20], axis=1).as_matrix().flatten()\n",
    "covDS1 = pd.read_csv(\"Datasets/DS1_Cov.txt\", header=None).drop([20], axis=1).as_matrix()"
   ]
  },
  {
   "cell_type": "code",
   "execution_count": 205,
   "metadata": {},
   "outputs": [],
   "source": [
    "dataNeg = np.random.multivariate_normal(meanNegativeDS1, covDS1, 2000)\n",
    "dataPos = np.random.multivariate_normal(meanPositiveDS1, covDS1, 2000)"
   ]
  },
  {
   "cell_type": "code",
   "execution_count": 206,
   "metadata": {},
   "outputs": [],
   "source": [
    "dataNegLabelled = np.append(dataNeg, np.zeros((2000, 1)), axis=1)\n",
    "dataPosLabelled = np.append(dataPos, np.ones((2000, 1)), axis=1)\n",
    "\n",
    "np.random.shuffle(dataNegLabelled)\n",
    "np.random.shuffle(dataPosLabelled)"
   ]
  },
  {
   "cell_type": "code",
   "execution_count": 207,
   "metadata": {},
   "outputs": [],
   "source": [
    "dataTrain = np.concatenate((dataNegLabelled[:1400], dataPosLabelled[:1400])) # 1400 = 70% of 2000\n",
    "dataTest = np.concatenate((dataNegLabelled[1400:], dataPosLabelled[1400:]))"
   ]
  },
  {
   "cell_type": "code",
   "execution_count": 208,
   "metadata": {},
   "outputs": [],
   "source": [
    "np.random.shuffle(dataTrain)\n",
    "np.random.shuffle(dataTest)"
   ]
  },
  {
   "cell_type": "code",
   "execution_count": 209,
   "metadata": {},
   "outputs": [],
   "source": [
    "# save dataset\n",
    "dataTestTrain = np.concatenate((dataTrain, dataTest))\n",
    "pd.DataFrame(data=dataTestTrain).to_csv(\"Datasets/DS1.csv\")\n",
    "pd.DataFrame(data=dataTest).to_csv(\"Datasets/DS1_test.csv\")\n",
    "pd.DataFrame(data=dataTrain).to_csv(\"Datasets/DS1_train.csv\")"
   ]
  },
  {
   "cell_type": "markdown",
   "metadata": {},
   "source": [
    "# Question 2"
   ]
  },
  {
   "cell_type": "code",
   "execution_count": 210,
   "metadata": {},
   "outputs": [],
   "source": [
    "def splitNegPos(dataTrain):\n",
    "    neg = []\n",
    "    pos = []\n",
    "    for row in dataTrain:\n",
    "        if (row[20] == 0):\n",
    "            neg.append(row)\n",
    "        elif (row[20] == 1):\n",
    "            pos.append(row)\n",
    "        else:\n",
    "            print \"problem here\"\n",
    "    return np.asmatrix(neg), np.asmatrix(pos)"
   ]
  },
  {
   "cell_type": "code",
   "execution_count": 211,
   "metadata": {},
   "outputs": [],
   "source": [
    "def calcMeanVectors(neg, pos):\n",
    "    return np.mean(neg, axis=0).T, np.mean(pos, axis=0).T"
   ]
  },
  {
   "cell_type": "code",
   "execution_count": 212,
   "metadata": {},
   "outputs": [],
   "source": [
    "def calcCovMatrix(neg, pos, negMean, posMean):\n",
    "    negS = np.zeros((20,20))\n",
    "    for row in neg:\n",
    "        m = np.subtract(row, negMean.T)\n",
    "        negS = negS + np.outer(m,m)\n",
    "    \n",
    "    posS = np.zeros((20,20))\n",
    "    for row in pos:\n",
    "        m = np.subtract(row, posMean.T)\n",
    "        posS = posS + np.outer(m,m)\n",
    "    \n",
    "    return np.divide(np.add(negS, posS), (len(neg)+len(pos)))"
   ]
  },
  {
   "cell_type": "code",
   "execution_count": 213,
   "metadata": {
    "scrolled": true
   },
   "outputs": [
    {
     "name": "stdout",
     "output_type": "stream",
     "text": [
      "[[1.31075372]\n",
      " [1.24121352]\n",
      " [1.27392147]\n",
      " [1.28518757]\n",
      " [1.29700413]\n",
      " [1.27735584]\n",
      " [1.32859703]\n",
      " [1.35771985]\n",
      " [1.30792921]\n",
      " [1.3310553 ]\n",
      " [1.28294456]\n",
      " [1.33119005]\n",
      " [1.32502052]\n",
      " [1.26371795]\n",
      " [1.32326695]\n",
      " [1.3953818 ]\n",
      " [1.26303064]\n",
      " [1.31569072]\n",
      " [1.28922682]\n",
      " [1.28404204]]\n",
      "[[1.98969791]\n",
      " [1.95710686]\n",
      " [1.99483756]\n",
      " [2.06053192]\n",
      " [2.02865681]\n",
      " [1.95969669]\n",
      " [1.93895154]\n",
      " [1.9935373 ]\n",
      " [1.9723008 ]\n",
      " [2.01341369]\n",
      " [2.00306553]\n",
      " [1.99787338]\n",
      " [2.06843742]\n",
      " [2.05514725]\n",
      " [2.01465332]\n",
      " [1.96199881]\n",
      " [1.98194064]\n",
      " [2.02425157]\n",
      " [1.98310723]\n",
      " [2.10029022]]\n"
     ]
    }
   ],
   "source": [
    "# Compututation for training\n",
    "neg, pos = splitNegPos(dataTrain)\n",
    "negMean, posMean = calcMeanVectors(neg[:, :-1], pos[:, :-1])\n",
    "print negMean\n",
    "print posMean"
   ]
  },
  {
   "cell_type": "code",
   "execution_count": 214,
   "metadata": {},
   "outputs": [
    {
     "name": "stdout",
     "output_type": "stream",
     "text": [
      "[[7.83301463 5.38626461 6.16466234 5.14069941 5.7958879  6.11576211\n",
      "  4.54663589 5.44228543 4.9934017  5.2666217  3.90916169 5.228243\n",
      "  7.09155688 5.96998888 6.01473396 5.93608321 5.86925324 5.68173222\n",
      "  5.44327273 5.7743297 ]\n",
      " [5.38626461 6.77036209 5.28175983 4.27980464 5.44867927 5.46818824\n",
      "  4.26784649 3.793345   4.13272396 5.00925202 3.37128608 4.5245329\n",
      "  5.79920329 5.02462903 5.36683779 5.12756967 5.58119311 5.02463412\n",
      "  5.19720064 5.22622053]\n",
      " [6.16466234 5.28175983 7.31114585 4.84787191 5.80110258 6.61326532\n",
      "  4.55157697 4.83036194 4.92374543 5.1696072  3.30564726 4.63533652\n",
      "  6.36247678 5.17992319 6.1032119  6.04685959 6.25177625 4.96550426\n",
      "  4.61975331 5.02523216]\n",
      " [5.14069941 4.27980464 4.84787191 5.71664935 5.25695088 4.50404438\n",
      "  3.63256713 4.39035041 3.38496325 4.26906731 2.78561296 4.12927115\n",
      "  5.85567729 4.78554449 4.76208554 5.08158988 4.68474742 4.54272508\n",
      "  3.85662925 5.66841514]\n",
      " [5.7958879  5.44867927 5.80110258 5.25695088 7.06184048 5.38635359\n",
      "  4.97024292 4.36737843 4.6702206  5.20936978 4.13221075 4.97528462\n",
      "  6.20496797 5.87241159 5.98497861 6.208071   5.94634704 5.17613688\n",
      "  5.31710587 5.63716817]\n",
      " [6.11576211 5.46818824 6.61326532 4.50404438 5.38635359 6.73321666\n",
      "  4.3561187  4.8901254  4.76949158 5.42319675 3.00191641 4.77563004\n",
      "  6.42521468 4.98356596 5.78972325 6.01101405 5.9313551  4.98297088\n",
      "  4.66242241 5.1732533 ]\n",
      " [4.54663589 4.26784649 4.55157697 3.63256713 4.97024292 4.3561187\n",
      "  5.03753627 3.78545015 3.90752768 4.32421096 2.99755216 4.22174387\n",
      "  4.60135635 4.09912927 4.64066397 5.16482707 4.28069953 3.62481341\n",
      "  4.4942791  3.73519469]\n",
      " [5.44228543 3.793345   4.83036194 4.39035041 4.36737843 4.8901254\n",
      "  3.78545015 6.06977348 3.54652055 4.94264536 2.5195018  4.84717247\n",
      "  6.18591    5.18346565 4.86597644 6.16489631 4.50751998 4.93288298\n",
      "  4.70357636 4.39010139]\n",
      " [4.9934017  4.13272396 4.92374543 3.38496325 4.6702206  4.76949158\n",
      "  3.90752768 3.54652055 4.95976108 4.70016023 3.13486329 4.03153042\n",
      "  5.1001747  4.62254342 4.90514977 5.08060538 5.1206462  4.03699589\n",
      "  4.14083327 4.01223199]\n",
      " [5.2666217  5.00925202 5.1696072  4.26906731 5.20936978 5.42319675\n",
      "  4.32421096 4.94264536 4.70016023 7.13300221 3.31772309 4.74989634\n",
      "  6.90160037 5.24434521 5.05600507 5.96429227 4.85201642 5.30494677\n",
      "  4.50866684 5.30341409]\n",
      " [3.90916169 3.37128608 3.30564726 2.78561296 4.13221075 3.00191641\n",
      "  2.99755216 2.5195018  3.13486329 3.31772309 3.36029406 2.89238468\n",
      "  3.71063822 3.89922614 3.59532687 3.62751968 3.68601129 3.18885215\n",
      "  3.69030891 3.40998911]\n",
      " [5.228243   4.5245329  4.63533652 4.12927115 4.97528462 4.77563004\n",
      "  4.22174387 4.84717247 4.03153042 4.74989634 2.89238468 5.2172495\n",
      "  6.0085115  4.97614496 4.75675406 5.49112774 5.00626506 4.87767014\n",
      "  4.91467685 4.38817243]\n",
      " [7.09155688 5.79920329 6.36247678 5.85567729 6.20496797 6.42521468\n",
      "  4.60135635 6.18591    5.1001747  6.90160037 3.71063822 6.0085115\n",
      "  9.11869746 6.26379057 6.18609196 6.53392733 6.02785068 6.33943898\n",
      "  5.76236705 7.21246153]\n",
      " [5.96998888 5.02462903 5.17992319 4.78554449 5.87241159 4.98356596\n",
      "  4.09912927 5.18346565 4.62254342 5.24434521 3.89922614 4.97614496\n",
      "  6.26379057 6.87843329 5.83981664 6.18289956 5.6833204  5.56296649\n",
      "  5.78218529 5.36052513]\n",
      " [6.01473396 5.36683779 6.1032119  4.76208554 5.98497861 5.78972325\n",
      "  4.64066397 4.86597644 4.90514977 5.05600507 3.59532687 4.75675406\n",
      "  6.18609196 5.83981664 6.95854943 7.16573182 5.82880955 5.06711328\n",
      "  5.34975337 5.59528341]\n",
      " [5.93608321 5.12756967 6.04685959 5.08158988 6.208071   6.01101405\n",
      "  5.16482707 6.16489631 5.08060538 5.96429227 3.62751968 5.49112774\n",
      "  6.53392733 6.18289956 7.16573182 9.28972576 5.86973522 5.85406562\n",
      "  5.52469555 5.72955808]\n",
      " [5.86925324 5.58119311 6.25177625 4.68474742 5.94634704 5.9313551\n",
      "  4.28069953 4.50751998 5.1206462  4.85201642 3.68601129 5.00626506\n",
      "  6.02785068 5.6833204  5.82880955 5.86973522 6.7457559  5.18208161\n",
      "  5.2348573  4.92165416]\n",
      " [5.68173222 5.02463412 4.96550426 4.54272508 5.17613688 4.98297088\n",
      "  3.62481341 4.93288298 4.03699589 5.30494677 3.18885215 4.87767014\n",
      "  6.33943898 5.56296649 5.06711328 5.85406562 5.18208161 5.95151681\n",
      "  4.74534281 4.99838164]\n",
      " [5.44327273 5.19720064 4.61975331 3.85662925 5.31710587 4.66242241\n",
      "  4.4942791  4.70357636 4.14083327 4.50866684 3.69030891 4.91467685\n",
      "  5.76236705 5.78218529 5.34975337 5.52469555 5.2348573  4.74534281\n",
      "  6.17476065 4.77099549]\n",
      " [5.7743297  5.22622053 5.02523216 5.66841514 5.63716817 5.1732533\n",
      "  3.73519469 4.39010139 4.01223199 5.30341409 3.40998911 4.38817243\n",
      "  7.21246153 5.36052513 5.59528341 5.72955808 4.92165416 4.99838164\n",
      "  4.77099549 7.80805176]]\n"
     ]
    }
   ],
   "source": [
    "cov = calcCovMatrix(neg[:, :-1], pos[:, :-1], negMean, posMean)\n",
    "print cov"
   ]
  },
  {
   "cell_type": "code",
   "execution_count": 215,
   "metadata": {},
   "outputs": [],
   "source": [
    "def trainLDA(negMean, posMean, cov, priorProb):\n",
    "    w = np.dot(np.linalg.inv(cov), np.subtract(negMean, posMean))\n",
    "    w0 = np.divide(np.dot(np.dot(negMean.T, np.linalg.inv(cov)), negMean), -2) + np.divide(np.dot(np.dot(posMean.T, np.linalg.inv(cov)), posMean), 2) + np.log(priorProb/(1-priorProb))\n",
    "    return w, w0[0,0]"
   ]
  },
  {
   "cell_type": "code",
   "execution_count": 216,
   "metadata": {},
   "outputs": [
    {
     "name": "stdout",
     "output_type": "stream",
     "text": [
      "[[ 13.90925363]\n",
      " [ -8.01235265]\n",
      " [ -5.52351363]\n",
      " [ -3.21283316]\n",
      " [ -9.24595305]\n",
      " [ -4.24420032]\n",
      " [ 16.370206  ]\n",
      " [-23.00400214]\n",
      " [-28.07743771]\n",
      " [  8.78945889]\n",
      " [-12.59414623]\n",
      " [-11.85377802]\n",
      " [ 15.05220526]\n",
      " [ 12.55298838]\n",
      " [ -5.47390201]\n",
      " [ 12.62387703]\n",
      " [ 28.35241496]\n",
      " [ -6.60694431]\n",
      " [ -0.86638513]\n",
      " [ -4.9059282 ]]\n",
      "26.406942383894098\n"
     ]
    }
   ],
   "source": [
    "w, w0 = trainLDA(negMean, posMean, cov, 0.5) # Prior probability for negative class and positive class is 0.5\n",
    "print w\n",
    "print w0"
   ]
  },
  {
   "cell_type": "code",
   "execution_count": 217,
   "metadata": {},
   "outputs": [],
   "source": [
    "def sigmoid(a):\n",
    "    return 1/(1+np.exp(-a))"
   ]
  },
  {
   "cell_type": "code",
   "execution_count": 218,
   "metadata": {},
   "outputs": [],
   "source": [
    "def prediction(dataTest, w, w0):\n",
    "    truePos, falsePos, falseNeg = 0, 0, 0\n",
    "    for row in dataTest:\n",
    "        label = row[-1]\n",
    "        row = row[:-1]\n",
    "        val = w0 + np.dot(w.T, row)\n",
    "        if (sigmoid(val) < 0.5):\n",
    "            if (label == 1):\n",
    "                truePos += 1\n",
    "            elif (label == 0):\n",
    "                falsePos += 1\n",
    "            else:\n",
    "                print \"problem here\"\n",
    "        else:\n",
    "            if (label == 1):\n",
    "                falseNeg += 1\n",
    "                \n",
    "    return truePos, falsePos, falseNeg"
   ]
  },
  {
   "cell_type": "code",
   "execution_count": 219,
   "metadata": {},
   "outputs": [],
   "source": [
    "truePos, falsePos, falseNeg = prediction(dataTest, w, w0)"
   ]
  },
  {
   "cell_type": "code",
   "execution_count": 220,
   "metadata": {},
   "outputs": [
    {
     "name": "stdout",
     "output_type": "stream",
     "text": [
      "572\n",
      "26\n",
      "28\n",
      "574\n",
      "Accuracy 0.955\n",
      "Precision 0.95652173913\n",
      "Recall 0.953333333333\n",
      "fMeasure 0.954924874791\n"
     ]
    }
   ],
   "source": [
    "print truePos\n",
    "print falsePos\n",
    "print falseNeg\n",
    "print (len(dataTest)-falsePos-falseNeg-truePos) # trueNeg\n",
    "\n",
    "def evaluateConfusion(truePos, falsePos, falseNeg):\n",
    "    accuracy = (float(len(dataTest)-falsePos-falseNeg))/len(dataTest)\n",
    "    precision = float(truePos)/(truePos+falsePos)\n",
    "    recall = float(truePos)/(truePos+falseNeg)\n",
    "    fMeasure = 2*precision*recall/(precision+recall)\n",
    "    return accuracy, precision, recall, fMeasure\n",
    "\n",
    "accuracy, precision, recall, fMeasure = evaluateConfusion(truePos, falsePos, falseNeg)\n",
    "\n",
    "print \"Accuracy \" + str(accuracy)\n",
    "print \"Precision \" + str(precision)\n",
    "print \"Recall \" + str(recall)\n",
    "print \"fMeasure \" + str(fMeasure)"
   ]
  },
  {
   "cell_type": "markdown",
   "metadata": {},
   "source": [
    "# Question 3"
   ]
  },
  {
   "cell_type": "code",
   "execution_count": 221,
   "metadata": {},
   "outputs": [],
   "source": [
    "def kNN(k, dataTrain, index, distances):\n",
    "    indices = np.argpartition(distances[index], k)[:k]\n",
    "    closestLabel = [dataTrain[i, -1] for i in indices]\n",
    "    return np.argmax(np.bincount(closestLabel))"
   ]
  },
  {
   "cell_type": "code",
   "execution_count": 222,
   "metadata": {},
   "outputs": [],
   "source": [
    "def getPredictions(k, dataTest, dataTrain, distances):\n",
    "    return [kNN(k, dataTrain, i, distances) for i in range(len(dataTest))]"
   ]
  },
  {
   "cell_type": "code",
   "execution_count": 223,
   "metadata": {},
   "outputs": [],
   "source": [
    "def getConfusion(predictedLabels, trueLabels):\n",
    "    truePos, falsePos, falseNeg = 0, 0, 0\n",
    "    for i in range(len(predictedLabels)):\n",
    "        if predictedLabels[i] == 1:\n",
    "            if (trueLabels[i] == 1):\n",
    "                truePos += 1\n",
    "            else:\n",
    "                falsePos += 1\n",
    "        else:\n",
    "            if (trueLabels[i] == 1):\n",
    "                falseNeg += 1\n",
    "                \n",
    "    return truePos, falsePos, falseNeg"
   ]
  },
  {
   "cell_type": "code",
   "execution_count": 224,
   "metadata": {},
   "outputs": [],
   "source": [
    "def findBestK(dataTest, dataTrain, distances):\n",
    "    f1 = []\n",
    "    for k in range(1, 100):\n",
    "        predictedLabels = getPredictions(k, dataTest, dataTrain, distances)\n",
    "        tp, fp, fn = getConfusion(predictedLabels, dataTest[:, -1])\n",
    "        a, p, r, f = evaluateConfusion(tp, fp, fn)\n",
    "        f1.append(f)\n",
    "    return np.argmax(f1)+1, f1"
   ]
  },
  {
   "cell_type": "code",
   "execution_count": 225,
   "metadata": {},
   "outputs": [],
   "source": [
    "distances = [[np.linalg.norm(np.subtract(x, row)) for row in dataTrain[:, :-1]] for x in dataTest[:, :-1]]"
   ]
  },
  {
   "cell_type": "code",
   "execution_count": 226,
   "metadata": {},
   "outputs": [
    {
     "name": "stdout",
     "output_type": "stream",
     "text": [
      "51\n"
     ]
    }
   ],
   "source": [
    "bestK, fMeasures = findBestK(dataTest, dataTrain, distances)\n",
    "print bestK"
   ]
  },
  {
   "cell_type": "code",
   "execution_count": 229,
   "metadata": {},
   "outputs": [
    {
     "data": {
      "image/png": "[encoded data removed]",
      "text/plain": [
       "<matplotlib.figure.Figure at 0x1754e3d0>"
      ]
     },
     "metadata": {},
     "output_type": "display_data"
    }
   ],
   "source": [
    "def plotFMeasureK(fMeasures):\n",
    "    fixIndex = [0] + fMeasures\n",
    "    plt.plot(fixIndex, c='b')\n",
    "    plt.xlabel(\"K\")\n",
    "    plt.ylabel(\"fMeasure\")\n",
    "    plt.title(\"fMeasure vs K\")\n",
    "    plt.xlim(1, 100)\n",
    "    \n",
    "plotFMeasureK(fMeasures)"
   ]
  },
  {
   "cell_type": "code",
   "execution_count": 230,
   "metadata": {},
   "outputs": [
    {
     "name": "stdout",
     "output_type": "stream",
     "text": [
      "365\n",
      "266\n",
      "235\n",
      "334\n",
      "Accuracy 0.5825\n",
      "Precision 0.578446909667\n",
      "Recall 0.608333333333\n",
      "fMeasure 0.593013809911\n"
     ]
    }
   ],
   "source": [
    "predictedLabels = getPredictions(bestK, dataTest, dataTrain, distances)\n",
    "truePos, falsePos, falseNeg = getConfusion(predictedLabels, dataTest[:, -1])\n",
    "\n",
    "print truePos\n",
    "print falsePos\n",
    "print falseNeg\n",
    "print (len(dataTest)-falsePos-falseNeg-truePos) # trueNeg\n",
    "\n",
    "accuracy, precision, recall, fMeasure = evaluateConfusion(truePos, falsePos, falseNeg)\n",
    "\n",
    "print \"Accuracy \" + str(accuracy)\n",
    "print \"Precision \" + str(precision)\n",
    "print \"Recall \" + str(recall)\n",
    "print \"fMeasure \" + str(fMeasure)"
   ]
  },
  {
   "cell_type": "markdown",
   "metadata": {},
   "source": [
    "# Question 4"
   ]
  },
  {
   "cell_type": "code",
   "execution_count": 231,
   "metadata": {},
   "outputs": [],
   "source": [
    "mean1PosDS2 = pd.read_csv('Datasets/DS2_c1_m1.txt', header = None).drop([20], axis=1).as_matrix().flatten()\n",
    "mean2PosDS2 = pd.read_csv('Datasets/DS2_c1_m2.txt', header = None).drop([20], axis=1).as_matrix().flatten()\n",
    "mean3PosDS2 = pd.read_csv('Datasets/DS2_c1_m3.txt', header = None).drop([20], axis=1).as_matrix().flatten()\n",
    "\n",
    "mean1NegDS2 = pd.read_csv('Datasets/DS2_c2_m1.txt', header = None).drop([20], axis=1).as_matrix().flatten()\n",
    "mean2NegDS2 = pd.read_csv('Datasets/DS2_c2_m2.txt', header = None).drop([20], axis=1).as_matrix().flatten()\n",
    "mean3NegDS2 = pd.read_csv('Datasets/DS2_c2_m3.txt', header = None).drop([20], axis=1).as_matrix().flatten()\n",
    "\n",
    "cov1 = pd.read_csv(\"Datasets/DS2_Cov1.txt\", header=None).drop([20], axis=1).as_matrix()\n",
    "cov2 = pd.read_csv(\"Datasets/DS2_Cov2.txt\", header=None).drop([20], axis=1).as_matrix()\n",
    "cov3 = pd.read_csv(\"Datasets/DS2_Cov3.txt\", header=None).drop([20], axis=1).as_matrix()"
   ]
  },
  {
   "cell_type": "code",
   "execution_count": 232,
   "metadata": {},
   "outputs": [],
   "source": [
    "dataNeg1 = pd.DataFrame(data = np.random.multivariate_normal(mean1NegDS2, cov1, 2000)).sample(frac=0.1)\n",
    "dataNeg2 = pd.DataFrame(data = np.random.multivariate_normal(mean2NegDS2, cov2, 2000)).sample(frac=0.42)\n",
    "dataNeg3 = pd.DataFrame(data = np.random.multivariate_normal(mean3NegDS2, cov3, 2000)).sample(frac=0.48)\n",
    "\n",
    "dataNeg = np.concatenate((np.concatenate((np.array(dataNeg1), np.array(dataNeg2))), np.array(dataNeg3)))\n",
    "\n",
    "dataPos1 = pd.DataFrame(data = np.random.multivariate_normal(mean1PosDS2, cov1, 2000)).sample(frac=0.1)\n",
    "dataPos2 = pd.DataFrame(data = np.random.multivariate_normal(mean2PosDS2, cov2, 2000)).sample(frac=0.42)\n",
    "dataPos3 = pd.DataFrame(data = np.random.multivariate_normal(mean3PosDS2, cov3, 2000)).sample(frac=0.48)\n",
    "\n",
    "dataPos = np.concatenate((np.concatenate((np.array(dataPos1), np.array(dataPos2))), np.array(dataPos3)))"
   ]
  },
  {
   "cell_type": "code",
   "execution_count": 233,
   "metadata": {},
   "outputs": [],
   "source": [
    "dataNeg = np.append(dataNeg,np.zeros((2000,1)), axis=1)\n",
    "dataPos = np.append(dataPos,np.ones((2000,1)), axis=1)\n",
    "\n",
    "np.random.shuffle(dataNeg)\n",
    "np.random.shuffle(dataPos)"
   ]
  },
  {
   "cell_type": "code",
   "execution_count": 234,
   "metadata": {},
   "outputs": [],
   "source": [
    "dataTrain = np.concatenate((dataNeg[:1400], dataPos[:1400])) # 1400 = 70% of 2000\n",
    "dataTest = np.concatenate((dataNeg[1400:], dataPos[1400:]))\n",
    "\n",
    "np.random.shuffle(dataTrain)\n",
    "np.random.shuffle(dataTest)"
   ]
  },
  {
   "cell_type": "code",
   "execution_count": 235,
   "metadata": {},
   "outputs": [],
   "source": [
    "# save dataset\n",
    "dataTestTrain = np.concatenate((dataTrain, dataTest))\n",
    "pd.DataFrame(data=dataTestTrain).to_csv(\"Datasets/DS2.csv\")\n",
    "pd.DataFrame(data=dataTest).to_csv(\"Datasets/DS2_test.csv\")\n",
    "pd.DataFrame(data=dataTrain).to_csv(\"Datasets/DS2_train.csv\")"
   ]
  },
  {
   "cell_type": "markdown",
   "metadata": {},
   "source": [
    "# Question 5.1"
   ]
  },
  {
   "cell_type": "code",
   "execution_count": 236,
   "metadata": {},
   "outputs": [
    {
     "name": "stdout",
     "output_type": "stream",
     "text": [
      "[[1.28745075]\n",
      " [1.30680821]\n",
      " [1.22782105]\n",
      " [1.20889673]\n",
      " [1.26385601]\n",
      " [1.24842539]\n",
      " [1.21231605]\n",
      " [1.2733429 ]\n",
      " [1.21287657]\n",
      " [1.15305029]\n",
      " [1.22741302]\n",
      " [1.26697755]\n",
      " [1.22108494]\n",
      " [1.20308532]\n",
      " [1.30056108]\n",
      " [1.25425766]\n",
      " [1.23141902]\n",
      " [1.35449738]\n",
      " [1.15481195]\n",
      " [1.2492258 ]]\n",
      "[[1.04672668]\n",
      " [1.05844091]\n",
      " [1.02170827]\n",
      " [1.07938353]\n",
      " [0.98293461]\n",
      " [1.09640948]\n",
      " [1.03432959]\n",
      " [1.02938333]\n",
      " [1.05707546]\n",
      " [1.05429878]\n",
      " [1.04345858]\n",
      " [1.03086226]\n",
      " [0.99881149]\n",
      " [1.0451089 ]\n",
      " [1.04919493]\n",
      " [1.04185004]\n",
      " [1.08182844]\n",
      " [1.07353928]\n",
      " [1.01112263]\n",
      " [1.08048638]]\n"
     ]
    }
   ],
   "source": [
    "# Compututation for training\n",
    "neg, pos = splitNegPos(dataTrain)\n",
    "negMean, posMean = calcMeanVectors(neg[:, :-1], pos[:, :-1])\n",
    "print negMean\n",
    "print posMean"
   ]
  },
  {
   "cell_type": "code",
   "execution_count": 237,
   "metadata": {},
   "outputs": [],
   "source": [
    "cov = calcCovMatrix(neg[:, :-1], pos[:, :-1], negMean, posMean)"
   ]
  },
  {
   "cell_type": "code",
   "execution_count": 245,
   "metadata": {},
   "outputs": [
    {
     "name": "stdout",
     "output_type": "stream",
     "text": [
      "[[7.71059873 5.39812565 4.60525215 5.11732978 4.33574495 5.62332496\n",
      "  5.97665273 5.76598763 4.69997554 5.4027417  5.5984332  4.98504982\n",
      "  5.03694995 6.07576537 5.40557206 5.63984119 5.32134798 5.53244152\n",
      "  5.5825669  5.77032284]\n",
      " [5.39812565 7.33669204 4.91021694 5.35394807 5.04292758 5.99303384\n",
      "  6.607358   5.4900267  4.69345347 5.17381326 4.87690278 5.05140023\n",
      "  4.97332759 6.06645919 5.68759841 6.02337174 5.22700426 5.19781308\n",
      "  6.13736602 5.62138103]\n",
      " [4.60525215 4.91021694 6.63459066 5.18453758 4.75501391 4.76481989\n",
      "  5.94385851 4.56099453 4.50536706 4.77547185 4.71866214 4.92089491\n",
      "  5.09424527 5.94264625 5.30463269 4.88870804 5.28971612 4.40936346\n",
      "  5.66367242 5.59993764]\n",
      " [5.11732978 5.35394807 5.18453758 6.77174033 4.26314381 5.58854425\n",
      "  6.36121039 5.5130327  4.80040005 5.53359207 5.02916415 4.79334918\n",
      "  5.05429447 5.5430401  5.39741852 5.41462654 5.18540063 5.24451705\n",
      "  5.89034744 5.6866618 ]\n",
      " [4.33574495 5.04292758 4.75501391 4.26314381 5.64878776 4.65536568\n",
      "  5.07042318 4.53222957 3.70645618 4.06524167 3.79266078 4.17491402\n",
      "  4.32005785 4.81480858 5.24986463 4.87774532 4.30537034 4.52825885\n",
      "  5.20867436 4.86753775]\n",
      " [5.62332496 5.99303384 4.76481989 5.58854425 4.65536568 7.7322554\n",
      "  6.63885986 5.32163748 5.47093651 5.52989627 4.72398035 4.83367832\n",
      "  5.3593829  6.29704525 5.59547062 5.88205084 5.49859606 5.46559265\n",
      "  6.45095781 6.01458304]\n",
      " [5.97665273 6.607358   5.94385851 6.36121039 5.07042318 6.63885986\n",
      "  8.56175878 6.10294372 5.83665016 6.18481922 5.95091684 5.70746715\n",
      "  5.70519017 6.96378106 6.00253665 6.3582534  5.83956126 5.71681978\n",
      "  7.22944002 6.27707368]\n",
      " [5.76598763 5.4900267  4.56099453 5.5130327  4.53222957 5.32163748\n",
      "  6.10294372 6.68656066 4.7570233  5.16983666 4.70073431 4.78691842\n",
      "  4.3706706  5.55851321 5.3551935  5.3774534  4.86217898 5.73969804\n",
      "  5.57144812 5.4419565 ]\n",
      " [4.69997554 4.69345347 4.50536706 4.80040005 3.70645618 5.47093651\n",
      "  5.83665016 4.7570233  5.9231179  4.62737451 4.30460702 4.34047479\n",
      "  4.42817809 5.11623347 4.71777645 4.5482049  4.72084919 4.67254492\n",
      "  4.92037461 4.76341198]\n",
      " [5.4027417  5.17381326 4.77547185 5.53359207 4.06524167 5.52989627\n",
      "  6.18481922 5.16983666 4.62737451 6.87464226 4.68665952 4.58298673\n",
      "  4.94374795 5.68807447 5.17257929 5.20684023 5.02473543 4.63919078\n",
      "  6.16042243 5.27214856]\n",
      " [5.5984332  4.87690278 4.71866214 5.02916415 3.79266078 4.72398035\n",
      "  5.95091684 4.70073431 4.30460702 4.68665952 6.19510377 5.06678026\n",
      "  4.72831043 5.13047019 5.09224074 4.76517991 4.77945098 4.75653586\n",
      "  5.63930379 5.29404956]\n",
      " [4.98504982 5.05140023 4.92089491 4.79334918 4.17491402 4.83367832\n",
      "  5.70746715 4.78691842 4.34047479 4.58298673 5.06678026 6.43499373\n",
      "  4.56376898 5.3244903  5.4492219  4.9801061  5.1090274  4.99041804\n",
      "  5.55681566 5.13036279]\n",
      " [5.03694995 4.97332759 5.09424527 5.05429447 4.32005785 5.3593829\n",
      "  5.70519017 4.3706706  4.42817809 4.94374795 4.72831043 4.56376898\n",
      "  6.37714634 5.4149421  5.60228558 5.34754164 5.22974566 4.7236411\n",
      "  5.83804632 5.28817011]\n",
      " [6.07576537 6.06645919 5.94264625 5.5430401  4.81480858 6.29704525\n",
      "  6.96378106 5.55851321 5.11623347 5.68807447 5.13047019 5.3244903\n",
      "  5.4149421  8.06549027 5.8537204  5.71234107 6.05456517 4.70765597\n",
      "  6.21226262 6.12254498]\n",
      " [5.40557206 5.68759841 5.30463269 5.39741852 5.24986463 5.59547062\n",
      "  6.00253665 5.3551935  4.71777645 5.17257929 5.09224074 5.4492219\n",
      "  5.60228558 5.8537204  7.35377594 5.45193954 5.41914949 5.42502809\n",
      "  5.9585136  6.0859936 ]\n",
      " [5.63984119 6.02337174 4.88870804 5.41462654 4.87774532 5.88205084\n",
      "  6.3582534  5.3774534  4.5482049  5.20684023 4.76517991 4.9801061\n",
      "  5.34754164 5.71234107 5.45193954 6.69300441 5.22782497 5.57801575\n",
      "  6.1907883  5.64249426]\n",
      " [5.32134798 5.22700426 5.28971612 5.18540063 4.30537034 5.49859606\n",
      "  5.83956126 4.86217898 4.72084919 5.02473543 4.77945098 5.1090274\n",
      "  5.22974566 6.05456517 5.41914949 5.22782497 6.69180358 4.62903662\n",
      "  5.61311593 5.97004825]\n",
      " [5.53244152 5.19781308 4.40936346 5.24451705 4.52825885 5.46559265\n",
      "  5.71681978 5.73969804 4.67254492 4.63919078 4.75653586 4.99041804\n",
      "  4.7236411  4.70765597 5.42502809 5.57801575 4.62903662 6.87648731\n",
      "  5.64156496 5.3990106 ]\n",
      " [5.5825669  6.13736602 5.66367242 5.89034744 5.20867436 6.45095781\n",
      "  7.22944002 5.57144812 4.92037461 6.16042243 5.63930379 5.55681566\n",
      "  5.83804632 6.21226262 5.9585136  6.1907883  5.61311593 5.64156496\n",
      "  8.25407561 6.29334106]\n",
      " [5.77032284 5.62138103 5.59993764 5.6866618  4.86753775 6.01458304\n",
      "  6.27707368 5.4419565  4.76341198 5.27214856 5.29404956 5.13036279\n",
      "  5.28817011 6.12254498 6.0859936  5.64249426 5.97004825 5.3990106\n",
      "  6.29334106 7.68952419]]\n"
     ]
    }
   ],
   "source": [
    "print cov"
   ]
  },
  {
   "cell_type": "code",
   "execution_count": 238,
   "metadata": {},
   "outputs": [
    {
     "name": "stdout",
     "output_type": "stream",
     "text": [
      "[[ 0.01034595]\n",
      " [ 0.03382382]\n",
      " [ 0.02141851]\n",
      " [-0.04159208]\n",
      " [ 0.0554358 ]\n",
      " [ 0.00405057]\n",
      " [-0.00162285]\n",
      " [ 0.04429938]\n",
      " [-0.01298182]\n",
      " [-0.01177366]\n",
      " [ 0.00694139]\n",
      " [ 0.03549652]\n",
      " [ 0.06729035]\n",
      " [-0.02702815]\n",
      " [-0.02440235]\n",
      " [-0.03155231]\n",
      " [-0.02575758]\n",
      " [ 0.02308278]\n",
      " [-0.05627954]\n",
      " [-0.00845733]]\n",
      "-0.07256552556910145\n"
     ]
    }
   ],
   "source": [
    "w, w0 = trainLDA(negMean, posMean, cov, 0.5) # Prior probability for negative class and positive class is 0.5\n",
    "print w\n",
    "print w0"
   ]
  },
  {
   "cell_type": "code",
   "execution_count": 239,
   "metadata": {},
   "outputs": [],
   "source": [
    "truePos, falsePos, falseNeg = prediction(dataTest, w, w0)"
   ]
  },
  {
   "cell_type": "code",
   "execution_count": 240,
   "metadata": {},
   "outputs": [
    {
     "name": "stdout",
     "output_type": "stream",
     "text": [
      "322\n",
      "307\n",
      "278\n",
      "293\n",
      "Accuracy 0.5125\n",
      "Precision 0.511923688394\n",
      "Recall 0.536666666667\n",
      "fMeasure 0.524003254679\n"
     ]
    }
   ],
   "source": [
    "print truePos\n",
    "print falsePos\n",
    "print falseNeg\n",
    "print (len(dataTest)-falsePos-falseNeg-truePos) # trueNeg\n",
    "\n",
    "accuracy, precision, recall, fMeasure = evaluateConfusion(truePos, falsePos, falseNeg)\n",
    "\n",
    "print \"Accuracy \" + str(accuracy)\n",
    "print \"Precision \" + str(precision)\n",
    "print \"Recall \" + str(recall)\n",
    "print \"fMeasure \" + str(fMeasure)"
   ]
  },
  {
   "cell_type": "markdown",
   "metadata": {},
   "source": [
    "# Question 5.2"
   ]
  },
  {
   "cell_type": "code",
   "execution_count": 241,
   "metadata": {},
   "outputs": [],
   "source": [
    "distances = [[np.linalg.norm(np.subtract(x, row)) for row in dataTrain[:, :-1]] for x in dataTest[:, :-1]]"
   ]
  },
  {
   "cell_type": "code",
   "execution_count": 242,
   "metadata": {},
   "outputs": [
    {
     "name": "stdout",
     "output_type": "stream",
     "text": [
      "23\n"
     ]
    }
   ],
   "source": [
    "bestK, fMeasures = findBestK(dataTest, dataTrain, distances)\n",
    "print bestK"
   ]
  },
  {
   "cell_type": "code",
   "execution_count": 243,
   "metadata": {},
   "outputs": [
    {
     "data": {
      "image/png": "[encoded data removed]",
      "text/plain": [
       "<matplotlib.figure.Figure at 0x15e32270>"
      ]
     },
     "metadata": {},
     "output_type": "display_data"
    }
   ],
   "source": [
    "plotFMeasureK(fMeasures)"
   ]
  },
  {
   "cell_type": "code",
   "execution_count": 244,
   "metadata": {},
   "outputs": [
    {
     "name": "stdout",
     "output_type": "stream",
     "text": [
      "322\n",
      "276\n",
      "278\n",
      "324\n",
      "Accuracy 0.538333333333\n",
      "Precision 0.538461538462\n",
      "Recall 0.536666666667\n",
      "fMeasure 0.537562604341\n"
     ]
    }
   ],
   "source": [
    "predictedLabels = getPredictions(bestK, dataTest, dataTrain, distances)\n",
    "truePos, falsePos, falseNeg = getConfusion(predictedLabels, dataTest[:, -1])\n",
    "\n",
    "print truePos\n",
    "print falsePos\n",
    "print falseNeg\n",
    "print (len(dataTest)-falsePos-falseNeg-truePos) # trueNeg\n",
    "\n",
    "accuracy, precision, recall, fMeasure = evaluateConfusion(truePos, falsePos, falseNeg)\n",
    "\n",
    "print \"Accuracy \" + str(accuracy)\n",
    "print \"Precision \" + str(precision)\n",
    "print \"Recall \" + str(recall)\n",
    "print \"fMeasure \" + str(fMeasure)"
   ]
  },
  {
   "cell_type": "code",
   "execution_count": null,
   "metadata": {},
   "outputs": [],
   "source": []
  }
 ],
 "metadata": {
  "kernelspec": {
   "display_name": "Python 2",
   "language": "python",
   "name": "python2"
  },
  "language_info": {
   "codemirror_mode": {
    "name": "ipython",
    "version": 2
   },
   "file_extension": ".py",
   "mimetype": "text/x-python",
   "name": "python",
   "nbconvert_exporter": "python",
   "pygments_lexer": "ipython2",
   "version": "2.7.14"
  }
 },
 "nbformat": 4,
 "nbformat_minor": 2
}

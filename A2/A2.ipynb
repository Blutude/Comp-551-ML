{
 "cells": [
  {
   "cell_type": "markdown",
   "metadata": {},
   "source": [
    "# Question 1"
   ]
  },
  {
   "cell_type": "code",
   "execution_count": 367,
   "metadata": {},
   "outputs": [],
   "source": [
    "import pandas as pd\n",
    "import numpy as np\n",
    "import matplotlib.pyplot as plt\n",
    "%matplotlib inline"
   ]
  },
  {
   "cell_type": "code",
   "execution_count": 368,
   "metadata": {},
   "outputs": [],
   "source": [
    "meanNegativeDS1 = pd.read_csv(\"Datasets/DS1_m_0.txt\", header=None).drop([20], axis=1).as_matrix().flatten()\n",
    "meanPositiveDS1 = pd.read_csv(\"Datasets/DS1_m_1.txt\", header=None).drop([20], axis=1).as_matrix().flatten()\n",
    "covDS1 = pd.read_csv(\"Datasets/DS1_Cov.txt\", header=None).drop([20], axis=1).as_matrix()"
   ]
  },
  {
   "cell_type": "code",
   "execution_count": 369,
   "metadata": {},
   "outputs": [],
   "source": [
    "dataNeg = np.random.multivariate_normal(meanNegativeDS1, covDS1, 2000)\n",
    "dataPos = np.random.multivariate_normal(meanPositiveDS1, covDS1, 2000)"
   ]
  },
  {
   "cell_type": "code",
   "execution_count": 370,
   "metadata": {},
   "outputs": [],
   "source": [
    "dataNegLabelled = np.append(dataNeg, np.zeros((2000, 1)), axis=1)\n",
    "dataPosLabelled = np.append(dataPos, np.ones((2000, 1)), axis=1)\n",
    "\n",
    "np.random.shuffle(dataNegLabelled)\n",
    "np.random.shuffle(dataPosLabelled)"
   ]
  },
  {
   "cell_type": "code",
   "execution_count": 371,
   "metadata": {},
   "outputs": [],
   "source": [
    "dataTrain = np.concatenate((dataNegLabelled[:1400], dataPosLabelled[:1400])) # 1400 = 70% of 2000\n",
    "dataTest = np.concatenate((dataNegLabelled[1400:], dataPosLabelled[1400:]))"
   ]
  },
  {
   "cell_type": "code",
   "execution_count": 372,
   "metadata": {},
   "outputs": [],
   "source": [
    "np.random.shuffle(dataTrain)\n",
    "np.random.shuffle(dataTest)"
   ]
  },
  {
   "cell_type": "code",
   "execution_count": 373,
   "metadata": {},
   "outputs": [],
   "source": [
    "# save dataset\n",
    "dataTestTrain = np.concatenate((dataTrain, dataTest))\n",
    "pd.DataFrame(data=dataTestTrain).to_csv(\"Datasets/DS1.csv\")"
   ]
  },
  {
   "cell_type": "markdown",
   "metadata": {},
   "source": [
    "# Question 2"
   ]
  },
  {
   "cell_type": "code",
   "execution_count": 374,
   "metadata": {},
   "outputs": [],
   "source": [
    "def splitNegPos(dataTrain):\n",
    "    neg = []\n",
    "    pos = []\n",
    "    for row in dataTrain:\n",
    "        if (row[20] == 0):\n",
    "            neg.append(row)\n",
    "        elif (row[20] == 1):\n",
    "            pos.append(row)\n",
    "        else:\n",
    "            print \"problem here\"\n",
    "    return np.asmatrix(neg), np.asmatrix(pos)"
   ]
  },
  {
   "cell_type": "code",
   "execution_count": 375,
   "metadata": {},
   "outputs": [],
   "source": [
    "def calcMeanVectors(neg, pos):\n",
    "    return np.mean(neg, axis=0).T, np.mean(pos, axis=0).T"
   ]
  },
  {
   "cell_type": "code",
   "execution_count": 376,
   "metadata": {},
   "outputs": [],
   "source": [
    "def calcCovMatrix(neg, pos, negMean, posMean):\n",
    "    negS = np.zeros((20,20))\n",
    "    for row in neg:\n",
    "        m = np.subtract(row, negMean.T)\n",
    "        negS = negS + np.outer(m,m)\n",
    "    \n",
    "    posS = np.zeros((20,20))\n",
    "    for row in pos:\n",
    "        m = np.subtract(row, posMean.T)\n",
    "        posS = posS + np.outer(m,m)\n",
    "    \n",
    "    return np.divide(np.add(negS, posS), (len(neg)+len(pos)))"
   ]
  },
  {
   "cell_type": "code",
   "execution_count": 377,
   "metadata": {},
   "outputs": [
    {
     "name": "stdout",
     "output_type": "stream",
     "text": [
      "[[1.31916849]\n",
      " [1.30853257]\n",
      " [1.33174387]\n",
      " [1.3483205 ]\n",
      " [1.35201642]\n",
      " [1.30836494]\n",
      " [1.35246805]\n",
      " [1.39879473]\n",
      " [1.31133484]\n",
      " [1.39600972]\n",
      " [1.34161014]\n",
      " [1.35252831]\n",
      " [1.42742351]\n",
      " [1.36792756]\n",
      " [1.32101946]\n",
      " [1.32451578]\n",
      " [1.31137938]\n",
      " [1.3427056 ]\n",
      " [1.38906403]\n",
      " [1.35067034]]\n",
      "[[2.00872173]\n",
      " [2.06309333]\n",
      " [2.03663006]\n",
      " [2.07240087]\n",
      " [2.04642643]\n",
      " [2.03388472]\n",
      " [2.02019483]\n",
      " [2.00964887]\n",
      " [1.99295291]\n",
      " [2.05032542]\n",
      " [2.02250818]\n",
      " [2.02547634]\n",
      " [2.04431684]\n",
      " [1.99736076]\n",
      " [2.00977926]\n",
      " [2.00570895]\n",
      " [2.03473557]\n",
      " [2.01085793]\n",
      " [1.9816536 ]\n",
      " [2.04454743]]\n"
     ]
    }
   ],
   "source": [
    "# Compututation for training\n",
    "neg, pos = splitNegPos(dataTrain)\n",
    "negMean, posMean = calcMeanVectors(neg[:, :-1], pos[:, :-1])\n",
    "print negMean\n",
    "print posMean"
   ]
  },
  {
   "cell_type": "code",
   "execution_count": 379,
   "metadata": {},
   "outputs": [],
   "source": [
    "cov = calcCovMatrix(neg[:, :-1], pos[:, :-1], negMean, posMean)"
   ]
  },
  {
   "cell_type": "code",
   "execution_count": 380,
   "metadata": {},
   "outputs": [],
   "source": [
    "def trainLDA(negMean, posMean, cov, priorProb):\n",
    "    w = np.dot(np.linalg.inv(cov), np.subtract(negMean, posMean))\n",
    "    w0 = np.divide(np.dot(np.dot(negMean.T, np.linalg.inv(cov)), negMean), -2) + np.divide(np.dot(np.dot(posMean.T, np.linalg.inv(cov)), posMean), 2) + np.log(priorProb/(1-priorProb))\n",
    "    return w, w0[0,0]"
   ]
  },
  {
   "cell_type": "code",
   "execution_count": 381,
   "metadata": {},
   "outputs": [
    {
     "name": "stdout",
     "output_type": "stream",
     "text": [
      "[[ 14.93675871]\n",
      " [ -8.86931375]\n",
      " [ -5.48121307]\n",
      " [ -3.1654574 ]\n",
      " [ -9.833837  ]\n",
      " [ -4.71443446]\n",
      " [ 17.19991687]\n",
      " [-24.75762283]\n",
      " [-29.83742153]\n",
      " [  9.63363883]\n",
      " [-13.58011467]\n",
      " [-12.60408564]\n",
      " [ 15.71441283]\n",
      " [ 12.89633034]\n",
      " [ -5.85897691]\n",
      " [ 13.444109  ]\n",
      " [ 29.98599611]\n",
      " [ -6.78883467]\n",
      " [ -0.12883234]\n",
      " [ -5.13971329]]\n",
      "27.89665885551857\n"
     ]
    }
   ],
   "source": [
    "w, w0 = trainLDA(negMean, posMean, cov, 0.5) # Prior probability for negative class and positive class is 0.5\n",
    "print w\n",
    "print w0"
   ]
  },
  {
   "cell_type": "code",
   "execution_count": 382,
   "metadata": {},
   "outputs": [],
   "source": [
    "def sigmoid(a):\n",
    "    return 1/(1+np.exp(-a))"
   ]
  },
  {
   "cell_type": "code",
   "execution_count": 386,
   "metadata": {},
   "outputs": [],
   "source": [
    "def prediction(dataTest, w, w0):\n",
    "    truePos, falsePos, falseNeg = 0, 0, 0\n",
    "    for row in dataTest:\n",
    "        label = row[-1]\n",
    "        row = row[:-1]\n",
    "        val = w0 + np.dot(w.T, row)\n",
    "        if (sigmoid(val) < 0.5):\n",
    "            if (label == 1):\n",
    "                truePos += 1\n",
    "            elif (label == 0):\n",
    "                falsePos += 1\n",
    "            else:\n",
    "                print \"problem here\"\n",
    "        else:\n",
    "            if (label == 1):\n",
    "                falseNeg += 1\n",
    "                \n",
    "    return truePos, falsePos, falseNeg"
   ]
  },
  {
   "cell_type": "code",
   "execution_count": 387,
   "metadata": {},
   "outputs": [],
   "source": [
    "truePos, falsePos, falseNeg = prediction(dataTest, w, w0)"
   ]
  },
  {
   "cell_type": "code",
   "execution_count": 388,
   "metadata": {},
   "outputs": [
    {
     "name": "stdout",
     "output_type": "stream",
     "text": [
      "581\n",
      "23\n",
      "19\n",
      "577\n",
      "Accuracy 0.965\n",
      "Precision 0.961920529801\n",
      "Recall 0.968333333333\n",
      "fMeasure 0.96511627907\n"
     ]
    }
   ],
   "source": [
    "print truePos\n",
    "print falsePos\n",
    "print falseNeg\n",
    "print (len(dataTest)-falsePos-falseNeg-truePos) # trueNeg\n",
    "\n",
    "accuracy = (float(len(dataTest)-falsePos-falseNeg))/len(dataTest)\n",
    "precision = float(truePos)/(truePos+falsePos)\n",
    "recall = float(truePos)/(truePos+falseNeg)\n",
    "print \"Accuracy \" + str(accuracy)\n",
    "print \"Precision \" + str(precision)\n",
    "print \"Recall \" + str(recall)\n",
    "fMeasure = 2*precision*recall/(precision+recall)\n",
    "print \"fMeasure \" + str(fMeasure)"
   ]
  },
  {
   "cell_type": "code",
   "execution_count": null,
   "metadata": {},
   "outputs": [],
   "source": []
  },
  {
   "cell_type": "code",
   "execution_count": null,
   "metadata": {},
   "outputs": [],
   "source": []
  },
  {
   "cell_type": "code",
   "execution_count": null,
   "metadata": {},
   "outputs": [],
   "source": []
  },
  {
   "cell_type": "code",
   "execution_count": null,
   "metadata": {},
   "outputs": [],
   "source": []
  },
  {
   "cell_type": "code",
   "execution_count": null,
   "metadata": {},
   "outputs": [],
   "source": []
  }
 ],
 "metadata": {
  "kernelspec": {
   "display_name": "Python 2",
   "language": "python",
   "name": "python2"
  },
  "language_info": {
   "codemirror_mode": {
    "name": "ipython",
    "version": 2
   },
   "file_extension": ".py",
   "mimetype": "text/x-python",
   "name": "python",
   "nbconvert_exporter": "python",
   "pygments_lexer": "ipython2",
   "version": "2.7.14"
  }
 },
 "nbformat": 4,
 "nbformat_minor": 2
}

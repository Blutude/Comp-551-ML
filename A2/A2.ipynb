{
 "cells": [
  {
   "cell_type": "markdown",
   "metadata": {},
   "source": [
    "# Question 1"
   ]
  },
  {
   "cell_type": "code",
   "execution_count": 220,
   "metadata": {},
   "outputs": [],
   "source": [
    "import pandas as pd\n",
    "import numpy as np\n",
    "import matplotlib.pyplot as plt\n",
    "%matplotlib inline"
   ]
  },
  {
   "cell_type": "code",
   "execution_count": 221,
   "metadata": {},
   "outputs": [],
   "source": [
    "meanNegativeDS1 = pd.read_csv(\"Datasets/DS1_m_0.txt\", header=None).drop([20], axis=1).as_matrix().flatten()\n",
    "meanPositiveDS1 = pd.read_csv(\"Datasets/DS1_m_1.txt\", header=None).drop([20], axis=1).as_matrix().flatten()\n",
    "covDS1 = pd.read_csv(\"Datasets/DS1_Cov.txt\", header=None).drop([20], axis=1).as_matrix()"
   ]
  },
  {
   "cell_type": "code",
   "execution_count": 222,
   "metadata": {},
   "outputs": [],
   "source": [
    "dataNeg = np.random.multivariate_normal(meanNegativeDS1, covDS1, 2000)\n",
    "dataPos = np.random.multivariate_normal(meanPositiveDS1, covDS1, 2000)"
   ]
  },
  {
   "cell_type": "code",
   "execution_count": 223,
   "metadata": {},
   "outputs": [],
   "source": [
    "dataNegLabelled = np.append(dataNeg, np.zeros((2000, 1)), axis=1)\n",
    "dataPosLabelled = np.append(dataPos, np.ones((2000, 1)), axis=1)"
   ]
  },
  {
   "cell_type": "code",
   "execution_count": 224,
   "metadata": {},
   "outputs": [],
   "source": [
    "dataTrain = np.concatenate((dataNegLabelled[:1400], dataPosLabelled[:1400])) # 1400 = 70% of 2000\n",
    "dataTest = np.concatenate((dataNegLabelled[1400:], dataPosLabelled[1400:]))"
   ]
  },
  {
   "cell_type": "code",
   "execution_count": 225,
   "metadata": {},
   "outputs": [],
   "source": [
    "dataTrainNeg = dataTrain[:1400, :-1]\n",
    "dataTrainPos = dataTrain[1400:, :-1]\n",
    "\n",
    "np.random.shuffle(dataTrain)\n",
    "np.random.shuffle(dataTest)"
   ]
  },
  {
   "cell_type": "code",
   "execution_count": 226,
   "metadata": {},
   "outputs": [],
   "source": [
    "# save dataset\n",
    "dataTestTrain = np.concatenate((dataTrain, dataTest))\n",
    "pd.DataFrame(data=dataTestTrain).to_csv(\"Datasets/DS1.csv\")"
   ]
  },
  {
   "cell_type": "markdown",
   "metadata": {},
   "source": [
    "# Question 2"
   ]
  },
  {
   "cell_type": "code",
   "execution_count": 227,
   "metadata": {},
   "outputs": [],
   "source": [
    "def calcMeanVectors(neg, pos):\n",
    "    return np.mean(dataTrainNeg, axis=0), np.mean(dataTrainPos, axis=0)"
   ]
  },
  {
   "cell_type": "code",
   "execution_count": 228,
   "metadata": {},
   "outputs": [],
   "source": [
    "def calcCovMatrix(neg, pos, negMean, posMean):\n",
    "    negS = np.zeros((20,20))\n",
    "    for row in neg:\n",
    "        m = np.subtract(row, negMean)\n",
    "        negS = negS + np.outer(m,m)\n",
    "    \n",
    "    posS = np.zeros((20,20))\n",
    "    for row in pos:\n",
    "        m = np.subtract(row, posMean)\n",
    "        posS = posS + np.outer(m,m)\n",
    "    \n",
    "    return np.divide(np.add(negS, posS), (len(neg)+len(pos)))"
   ]
  },
  {
   "cell_type": "code",
   "execution_count": 229,
   "metadata": {},
   "outputs": [],
   "source": [
    "def trainLDA(negMean, posMean, cov, priorProb):\n",
    "    w = np.dot(np.linalg.inv(cov), np.subtract(negMean, posMean))\n",
    "    w0 = np.divide(np.dot(np.dot(negMean.T, np.linalg.inv(cov)), negMean), -2) + np.divide(np.dot(np.dot(posMean.T, np.linalg.inv(cov)), posMean), 2) + np.log(priorProb/(1-priorProb))\n",
    "    return w, w0"
   ]
  },
  {
   "cell_type": "code",
   "execution_count": 230,
   "metadata": {},
   "outputs": [
    {
     "name": "stdout",
     "output_type": "stream",
     "text": [
      "[-0.03810805 -0.00851562 -0.06887418  0.11082698 -0.09479853  0.04853718\n",
      "  0.05714717  0.05075715  0.0290923   0.04355267  0.06962879 -0.1308975\n",
      " -0.05653003 -0.07335942  0.00302298 -0.05494477  0.05740252  0.04451387\n",
      "  0.08225349  0.00882607]\n",
      "-0.12803078964177672\n"
     ]
    }
   ],
   "source": [
    "# Compututation for training\n",
    "negMean, posMean = calcMeanVectors(dataTrainNeg, dataTrainPos)\n",
    "cov = calcCovMatrix(dataTrainNeg, dataTrainPos, negMean, posMean)\n",
    "w, w0 = trainLDA(negMean, posMean, cov, 0.5) # Prior probability for negative class and positive class is 0.5\n",
    "print w\n",
    "print w0"
   ]
  },
  {
   "cell_type": "code",
   "execution_count": 231,
   "metadata": {},
   "outputs": [],
   "source": [
    "def prediction(dataTest, w, w0):\n",
    "    truePos, falsePos, falseNeg = 0, 0, 0\n",
    "    for row in dataTest:\n",
    "        posLabel = row[-1]\n",
    "        row = row[:-1]\n",
    "        val = w0 + np.dot(w, row)\n",
    "        if (val >= 0.5):\n",
    "            if (posLabel):\n",
    "                truePos += 1\n",
    "            else:\n",
    "                falsePos += 1\n",
    "        else:\n",
    "            if (posLabel):\n",
    "                falseNeg += 1\n",
    "                \n",
    "    return truePos, falsePos, falseNeg"
   ]
  },
  {
   "cell_type": "code",
   "execution_count": 232,
   "metadata": {},
   "outputs": [],
   "source": [
    "truePos, falsePos, falseNeg = prediction(dataTest, w, w0)"
   ]
  },
  {
   "cell_type": "code",
   "execution_count": 234,
   "metadata": {},
   "outputs": [
    {
     "name": "stdout",
     "output_type": "stream",
     "text": [
      "5\n",
      "1\n",
      "595\n",
      "599\n",
      "0.503333333333\n",
      "0.833333333333\n",
      "0.00833333333333\n",
      "0.016501650165\n"
     ]
    }
   ],
   "source": [
    "print truePos\n",
    "print falsePos\n",
    "print falseNeg\n",
    "print (len(dataTest)-falsePos-falseNeg-truePos) # trueNeg\n",
    "\n",
    "accuracy = (float(len(dataTest)-falsePos-falseNeg))/len(dataTest)\n",
    "precision = float(truePos)/(truePos+falsePos)\n",
    "recall = float(truePos)/(truePos+falseNeg)\n",
    "print accuracy\n",
    "print precision\n",
    "print recall\n",
    "fMeasure = 2*precision*recall/(precision+recall)\n",
    "print fMeasure"
   ]
  },
  {
   "cell_type": "code",
   "execution_count": null,
   "metadata": {},
   "outputs": [],
   "source": []
  },
  {
   "cell_type": "code",
   "execution_count": null,
   "metadata": {},
   "outputs": [],
   "source": []
  }
 ],
 "metadata": {
  "kernelspec": {
   "display_name": "Python 2",
   "language": "python",
   "name": "python2"
  },
  "language_info": {
   "codemirror_mode": {
    "name": "ipython",
    "version": 2
   },
   "file_extension": ".py",
   "mimetype": "text/x-python",
   "name": "python",
   "nbconvert_exporter": "python",
   "pygments_lexer": "ipython2",
   "version": "2.7.10"
  }
 },
 "nbformat": 4,
 "nbformat_minor": 2
}

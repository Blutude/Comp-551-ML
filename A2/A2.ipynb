{
 "cells": [
  {
   "cell_type": "markdown",
   "metadata": {},
   "source": [
    "# Question 1"
   ]
  },
  {
   "cell_type": "code",
   "execution_count": 282,
   "metadata": {},
   "outputs": [],
   "source": [
    "import pandas as pd\n",
    "import numpy as np\n",
    "import matplotlib.pyplot as plt\n",
    "%matplotlib inline"
   ]
  },
  {
   "cell_type": "code",
   "execution_count": 283,
   "metadata": {},
   "outputs": [],
   "source": [
    "meanNegativeDS1 = pd.read_csv(\"Datasets/DS1_m_0.txt\", header=None).drop([20], axis=1).as_matrix().flatten()\n",
    "meanPositiveDS1 = pd.read_csv(\"Datasets/DS1_m_1.txt\", header=None).drop([20], axis=1).as_matrix().flatten()\n",
    "covDS1 = pd.read_csv(\"Datasets/DS1_Cov.txt\", header=None).drop([20], axis=1).as_matrix()"
   ]
  },
  {
   "cell_type": "code",
   "execution_count": 284,
   "metadata": {},
   "outputs": [],
   "source": [
    "dataNeg = np.random.multivariate_normal(meanNegativeDS1, covDS1, 2000)\n",
    "dataPos = np.random.multivariate_normal(meanPositiveDS1, covDS1, 2000)"
   ]
  },
  {
   "cell_type": "code",
   "execution_count": 285,
   "metadata": {},
   "outputs": [],
   "source": [
    "dataNegLabelled = np.append(dataNeg, np.zeros((2000, 1)), axis=1)\n",
    "dataPosLabelled = np.append(dataPos, np.ones((2000, 1)), axis=1)\n",
    "\n",
    "np.random.shuffle(dataNegLabelled)\n",
    "np.random.shuffle(dataPosLabelled)"
   ]
  },
  {
   "cell_type": "code",
   "execution_count": 286,
   "metadata": {},
   "outputs": [],
   "source": [
    "dataTrain = np.concatenate((dataNegLabelled[:1400], dataPosLabelled[:1400])) # 1400 = 70% of 2000\n",
    "dataTest = np.concatenate((dataNegLabelled[1400:], dataPosLabelled[1400:]))"
   ]
  },
  {
   "cell_type": "code",
   "execution_count": 287,
   "metadata": {},
   "outputs": [],
   "source": [
    "np.random.shuffle(dataTrain)\n",
    "np.random.shuffle(dataTest)"
   ]
  },
  {
   "cell_type": "code",
   "execution_count": 288,
   "metadata": {},
   "outputs": [],
   "source": [
    "# save dataset\n",
    "dataTestTrain = np.concatenate((dataTrain, dataTest))\n",
    "pd.DataFrame(data=dataTestTrain).to_csv(\"Datasets/DS1.csv\")"
   ]
  },
  {
   "cell_type": "markdown",
   "metadata": {},
   "source": [
    "# Question 2"
   ]
  },
  {
   "cell_type": "code",
   "execution_count": 289,
   "metadata": {},
   "outputs": [],
   "source": [
    "def splitNegPos(dataTrain):\n",
    "    neg = []\n",
    "    pos = []\n",
    "    for row in dataTrain:\n",
    "        if (row[20] == 0):\n",
    "            neg.append(row)\n",
    "        elif (row[20] == 1):\n",
    "            pos.append(row)\n",
    "        else:\n",
    "            print \"problem here\"\n",
    "    return np.asmatrix(neg), np.asmatrix(pos)"
   ]
  },
  {
   "cell_type": "code",
   "execution_count": 290,
   "metadata": {},
   "outputs": [],
   "source": [
    "def calcMeanVectors(neg, pos):\n",
    "    return np.mean(neg, axis=0).T, np.mean(pos, axis=0).T"
   ]
  },
  {
   "cell_type": "code",
   "execution_count": 313,
   "metadata": {},
   "outputs": [],
   "source": [
    "def calcCovMatrix(neg, pos, negMean, posMean):\n",
    "    negS = np.zeros((20,20))\n",
    "    for row in neg:\n",
    "        m = np.subtract(row, negMean.T)\n",
    "        negS = negS + np.outer(m,m)\n",
    "    \n",
    "    posS = np.zeros((20,20))\n",
    "    for row in pos:\n",
    "        m = np.subtract(row, posMean.T)\n",
    "        posS = posS + np.outer(m,m)\n",
    "    \n",
    "    return np.divide(np.add(negS, posS), (len(neg)+len(pos)))"
   ]
  },
  {
   "cell_type": "code",
   "execution_count": 314,
   "metadata": {},
   "outputs": [
    {
     "name": "stdout",
     "output_type": "stream",
     "text": [
      "[[1.33126829]\n",
      " [1.38596144]\n",
      " [1.37539477]\n",
      " [1.31716526]\n",
      " [1.35736297]\n",
      " [1.34953626]\n",
      " [1.35501262]\n",
      " [1.27776788]\n",
      " [1.37365803]\n",
      " [1.31589585]\n",
      " [1.29469983]\n",
      " [1.36015141]\n",
      " [1.31206035]\n",
      " [1.33626164]\n",
      " [1.33021523]\n",
      " [1.28602542]\n",
      " [1.39002543]\n",
      " [1.34643201]\n",
      " [1.32058212]\n",
      " [1.2614043 ]]\n",
      "[[1.994739  ]\n",
      " [2.00537787]\n",
      " [1.96970676]\n",
      " [2.0606416 ]\n",
      " [2.03666841]\n",
      " [1.97490732]\n",
      " [2.04122152]\n",
      " [2.0479414 ]\n",
      " [2.01163251]\n",
      " [2.07168997]\n",
      " [1.98983422]\n",
      " [2.06960246]\n",
      " [2.06917206]\n",
      " [2.08131506]\n",
      " [2.00150679]\n",
      " [2.00959351]\n",
      " [1.98966016]\n",
      " [2.07065483]\n",
      " [2.04076271]\n",
      " [2.04086404]]\n"
     ]
    }
   ],
   "source": [
    "# Compututation for training\n",
    "neg, pos = splitNegPos(dataTrain)\n",
    "negMean, posMean = calcMeanVectors(neg[:, :-1], pos[:, :-1])\n",
    "print negMean\n",
    "print posMean"
   ]
  },
  {
   "cell_type": "code",
   "execution_count": 315,
   "metadata": {},
   "outputs": [
    {
     "name": "stdout",
     "output_type": "stream",
     "text": [
      "[[7.78425269 5.54716073 6.02641399 5.1526124  5.819713   6.05297804\n",
      "  4.60649086 5.35610719 4.89258653 5.1875738  3.88036486 5.26272869\n",
      "  7.10883653 5.87596609 5.93848204 5.89895999 5.78817795 5.65446781\n",
      "  5.53482787 5.94967779]\n",
      " [5.54716073 6.94981781 5.39073072 4.45950202 5.46046707 5.58895395\n",
      "  4.357526   4.05295184 4.13172002 5.10178635 3.34551902 4.71158226\n",
      "  6.06617693 5.1021412  5.42167477 5.29934646 5.65360031 5.18659246\n",
      "  5.36368285 5.43604445]\n",
      " [6.02641399 5.39073072 7.16874916 4.87058432 5.69030842 6.48783799\n",
      "  4.53258319 4.76587927 4.77023318 5.06903775 3.19696831 4.64095439\n",
      "  6.3303123  5.07546101 5.94148376 5.92796667 6.1454117  4.97700805\n",
      "  4.61196503 5.06604189]\n",
      " [5.1526124  4.45950202 4.87058432 5.76249551 5.28192282 4.4972729\n",
      "  3.71640352 4.41584601 3.3687244  4.29157981 2.74153069 4.226079\n",
      "  5.92633061 4.7787965  4.73446338 5.11227162 4.69930183 4.64773785\n",
      "  3.92977004 5.75494878]\n",
      " [5.819713   5.46046707 5.69030842 5.28192282 6.97783321 5.32109263\n",
      "  4.97255845 4.43235565 4.53456849 5.11498024 4.01987813 5.01713197\n",
      "  6.2715473  5.78263069 5.8793551  6.17604006 5.8140948  5.18226424\n",
      "  5.35718671 5.74339528]\n",
      " [6.05297804 5.58895395 6.48783799 4.4972729  5.32109263 6.62614737\n",
      "  4.37210789 4.84902047 4.6651037  5.31294734 2.93171649 4.79647301\n",
      "  6.40346044 4.91102065 5.70673082 5.96286183 5.85268506 4.98569942\n",
      "  4.71803505 5.22133102]\n",
      " [4.60649086 4.357526   4.53258319 3.71640352 4.97255845 4.37210789\n",
      "  5.05663861 3.91232259 3.8638948  4.34681556 2.93556143 4.34151882\n",
      "  4.76632615 4.10938498 4.61676216 5.21857476 4.27722171 3.73135196\n",
      "  4.58072154 3.87590403]\n",
      " [5.35610719 4.05295184 4.76587927 4.41584601 4.43235565 4.84902047\n",
      "  3.91232259 5.97244838 3.57274745 4.9865556  2.52130878 4.90812899\n",
      "  6.20938525 5.13602033 4.81627888 6.19110311 4.5215826  4.97913683\n",
      "  4.78632662 4.48420413]\n",
      " [4.89258653 4.13172002 4.77023318 3.3687244  4.53456849 4.6651037\n",
      "  3.8638948  3.57274745 4.83553963 4.66238698 3.00828735 4.03522094\n",
      "  5.08254732 4.54158408 4.78256591 5.05707224 4.99188444 4.06043538\n",
      "  4.12383856 4.02101145]\n",
      " [5.1875738  5.10178635 5.06903775 4.29157981 5.11498024 5.31294734\n",
      "  4.34681556 4.9865556  4.66238698 7.19857329 3.22817292 4.76214132\n",
      "  6.95751007 5.1754028  5.00489181 6.07415474 4.73958034 5.3584909\n",
      "  4.49458189 5.3551593 ]\n",
      " [3.88036486 3.34551902 3.19696831 2.74153069 4.01987813 2.93171649\n",
      "  2.93556143 2.52130878 3.00828735 3.22817292 3.28238202 2.87793906\n",
      "  3.69887769 3.80097987 3.49129587 3.56804053 3.57321006 3.17151358\n",
      "  3.67952912 3.42859455]\n",
      " [5.26272869 4.71158226 4.64095439 4.226079   5.01713197 4.79647301\n",
      "  4.34151882 4.90812899 4.03522094 4.76214132 2.87793906 5.299718\n",
      "  6.08501919 5.0149203  4.78414832 5.58105943 5.02646689 4.94391277\n",
      "  5.05405223 4.54976597]\n",
      " [7.10883653 6.06617693 6.3303123  5.92633061 6.2715473  6.40346044\n",
      "  4.76632615 6.20938525 5.08254732 6.95751007 3.69887769 6.08501919\n",
      "  9.21860371 6.25956541 6.20346638 6.63126479 5.97619973 6.39484181\n",
      "  5.90634112 7.40004051]\n",
      " [5.87596609 5.1021412  5.07546101 4.7787965  5.78263069 4.91102065\n",
      "  4.10938498 5.13602033 4.54158408 5.1754028  3.80097987 5.0149203\n",
      "  6.25956541 6.74758049 5.70269294 6.14911426 5.61598824 5.59633654\n",
      "  5.77753541 5.37470622]\n",
      " [5.93848204 5.42167477 5.94148376 4.73446338 5.8793551  5.70673082\n",
      "  4.61676216 4.81627888 4.78256591 5.00489181 3.49129587 4.78414832\n",
      "  6.20346638 5.70269294 6.75640107 7.04783204 5.70925329 5.09595653\n",
      "  5.34221753 5.64650052]\n",
      " [5.89895999 5.29934646 5.92796667 5.11227162 6.17604006 5.96286183\n",
      "  5.21857476 6.19110311 5.05707224 6.07415474 3.56804053 5.58105943\n",
      "  6.63126479 6.14911426 7.04783204 9.32583352 5.82169942 6.00487325\n",
      "  5.5824082  5.85256911]\n",
      " [5.78817795 5.65360031 6.1454117  4.69930183 5.8140948  5.85268506\n",
      "  4.27722171 4.5215826  4.99188444 4.73958034 3.57321006 5.02646689\n",
      "  5.97619973 5.61598824 5.70925329 5.82169942 6.66830442 5.19967138\n",
      "  5.26785015 4.93537346]\n",
      " [5.65446781 5.18659246 4.97700805 4.64773785 5.18226424 4.98569942\n",
      "  3.73135196 4.97913683 4.06043538 5.3584909  3.17151358 4.94391277\n",
      "  6.39484181 5.59633654 5.09595653 6.00487325 5.19967138 6.03775203\n",
      "  4.83246046 5.15756621]\n",
      " [5.53482787 5.36368285 4.61196503 3.92977004 5.35718671 4.71803505\n",
      "  4.58072154 4.78632662 4.12383856 4.49458189 3.67952912 5.05405223\n",
      "  5.90634112 5.77753541 5.34221753 5.5824082  5.26785015 4.83246046\n",
      "  6.32878881 4.91140636]\n",
      " [5.94967779 5.43604445 5.06604189 5.75494878 5.74339528 5.22133102\n",
      "  3.87590403 4.48420413 4.02101145 5.3551593  3.42859455 4.54976597\n",
      "  7.40004051 5.37470622 5.64650052 5.85256911 4.93537346 5.15756621\n",
      "  4.91140636 7.99003074]]\n"
     ]
    }
   ],
   "source": [
    "cov = calcCovMatrix(neg[:, :-1], pos[:, :-1], negMean, posMean)\n",
    "print cov"
   ]
  },
  {
   "cell_type": "code",
   "execution_count": 322,
   "metadata": {},
   "outputs": [],
   "source": [
    "def trainLDA(negMean, posMean, cov, priorProb):\n",
    "    w = np.dot(np.linalg.inv(cov), np.subtract(negMean, posMean))\n",
    "    w0 = np.divide(np.dot(np.dot(negMean.T, np.linalg.inv(cov)), negMean), -2) + np.divide(np.dot(np.dot(posMean.T, np.linalg.inv(cov)), posMean), 2) + np.log(priorProb/(1-priorProb))\n",
    "    return w, w0[0][0]"
   ]
  },
  {
   "cell_type": "code",
   "execution_count": 323,
   "metadata": {},
   "outputs": [
    {
     "name": "stdout",
     "output_type": "stream",
     "text": [
      "[[ 14.24602477]\n",
      " [ -8.35235933]\n",
      " [ -4.77546836]\n",
      " [ -2.92193936]\n",
      " [ -9.4400175 ]\n",
      " [ -4.68824974]\n",
      " [ 15.86315722]\n",
      " [-23.7404523 ]\n",
      " [-28.3945684 ]\n",
      " [  9.33237041]\n",
      " [-12.9128893 ]\n",
      " [-11.29811389]\n",
      " [ 14.85657967]\n",
      " [ 12.37991497]\n",
      " [ -5.59126103]\n",
      " [ 12.85365609]\n",
      " [ 28.38231065]\n",
      " [ -6.85586918]\n",
      " [ -0.16023563]\n",
      " [ -4.96191482]]\n",
      "[[26.65850261]]\n"
     ]
    }
   ],
   "source": [
    "w, w0 = trainLDA(negMean, posMean, cov, 0.5) # Prior probability for negative class and positive class is 0.5\n",
    "print w\n",
    "print w0"
   ]
  },
  {
   "cell_type": "code",
   "execution_count": 324,
   "metadata": {},
   "outputs": [],
   "source": [
    "def sigmoid(a):\n",
    "    return 1/(1+np.exp(-a))"
   ]
  },
  {
   "cell_type": "code",
   "execution_count": 325,
   "metadata": {},
   "outputs": [],
   "source": [
    "def prediction(dataTest, w, w0):\n",
    "    truePos, falsePos, falseNeg = 0, 0, 0\n",
    "    for row in dataTest:\n",
    "        posLabel = row[-1]\n",
    "        row = row[:-1]\n",
    "        val = w0 + np.dot(w.T, row)\n",
    "        if (sigmoid(val) >= 0.5):\n",
    "            if (posLabel == 1):\n",
    "                truePos += 1\n",
    "            elif (posLabel == 0):\n",
    "                falsePos += 1\n",
    "            else:\n",
    "                print \"problem here\"\n",
    "        else:\n",
    "            if (posLabel == 1):\n",
    "                falseNeg += 1\n",
    "                \n",
    "    return truePos, falsePos, falseNeg"
   ]
  },
  {
   "cell_type": "code",
   "execution_count": 326,
   "metadata": {},
   "outputs": [],
   "source": [
    "truePos, falsePos, falseNeg = prediction(dataTest, w, w0)"
   ]
  },
  {
   "cell_type": "code",
   "execution_count": 327,
   "metadata": {},
   "outputs": [
    {
     "name": "stdout",
     "output_type": "stream",
     "text": [
      "25\n",
      "566\n",
      "575\n",
      "34\n",
      "Accuracy 0.0491666666667\n",
      "Precision 0.0423011844332\n",
      "Recall 0.0416666666667\n",
      "fMeasure 0.0419815281276\n"
     ]
    }
   ],
   "source": [
    "print truePos\n",
    "print falsePos\n",
    "print falseNeg\n",
    "print (len(dataTest)-falsePos-falseNeg-truePos) # trueNeg\n",
    "\n",
    "accuracy = (float(len(dataTest)-falsePos-falseNeg))/len(dataTest)\n",
    "precision = float(truePos)/(truePos+falsePos)\n",
    "recall = float(truePos)/(truePos+falseNeg)\n",
    "print \"Accuracy \" + str(accuracy)\n",
    "print \"Precision \" + str(precision)\n",
    "print \"Recall \" + str(recall)\n",
    "fMeasure = 2*precision*recall/(precision+recall)\n",
    "print \"fMeasure \" + str(fMeasure)"
   ]
  },
  {
   "cell_type": "code",
   "execution_count": null,
   "metadata": {},
   "outputs": [],
   "source": []
  },
  {
   "cell_type": "code",
   "execution_count": null,
   "metadata": {},
   "outputs": [],
   "source": []
  },
  {
   "cell_type": "code",
   "execution_count": null,
   "metadata": {},
   "outputs": [],
   "source": []
  }
 ],
 "metadata": {
  "kernelspec": {
   "display_name": "Python 2",
   "language": "python",
   "name": "python2"
  },
  "language_info": {
   "codemirror_mode": {
    "name": "ipython",
    "version": 2
   },
   "file_extension": ".py",
   "mimetype": "text/x-python",
   "name": "python",
   "nbconvert_exporter": "python",
   "pygments_lexer": "ipython2",
   "version": "2.7.14"
  }
 },
 "nbformat": 4,
 "nbformat_minor": 2
}
